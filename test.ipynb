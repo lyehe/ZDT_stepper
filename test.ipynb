{
 "cells": [
  {
   "cell_type": "code",
   "execution_count": 2,
   "metadata": {},
   "outputs": [
    {
     "data": {
      "text/plain": [
       "['GetVersion',\n",
       " 'GetMotorRH',\n",
       " 'GetPID',\n",
       " 'GetBusVoltage',\n",
       " 'GetPhaseCurrent',\n",
       " 'GetEncoderValue',\n",
       " 'GetPulseCount',\n",
       " 'GetTargetPosition',\n",
       " 'GetOpenLoopSetpoint',\n",
       " 'GetRealTimeSpeed',\n",
       " 'GetRealTimePosition',\n",
       " 'GetError',\n",
       " 'GetStatus',\n",
       " 'GetConfig',\n",
       " 'GetSysStatus']"
      ]
     },
     "execution_count": 2,
     "metadata": {},
     "output_type": "execute_result"
    }
   ],
   "source": [
    "from src.stepper.commands import get\n",
    "\n",
    "get.__all__"
   ]
  }
 ],
 "metadata": {
  "kernelspec": {
   "display_name": "zdt_stepper",
   "language": "python",
   "name": "python3"
  },
  "language_info": {
   "codemirror_mode": {
    "name": "ipython",
    "version": 3
   },
   "file_extension": ".py",
   "mimetype": "text/x-python",
   "name": "python",
   "nbconvert_exporter": "python",
   "pygments_lexer": "ipython3",
   "version": "3.10.16"
  }
 },
 "nbformat": 4,
 "nbformat_minor": 2
}
