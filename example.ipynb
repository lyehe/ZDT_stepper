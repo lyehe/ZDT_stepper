{
 "cells": [
  {
   "cell_type": "code",
   "execution_count": null,
   "metadata": {},
   "outputs": [],
   "source": [
    "from src.stepper.serial_utilities.serial_utilities import (\n",
    "\n",
    "    test_connection,\n",
    "    print_ports_info,\n",
    "    scan_ports,\n",
    "    TestCase,\n",
    ")\n",
    "\n",
    "print_ports_info()\n",
    "test_connection(\"COM3\", 115200, test_case=TestCase.default())\n",
    "scan_ports(test_case=TestCase.default())\n"
   ]
  },
  {
   "cell_type": "code",
   "execution_count": null,
   "metadata": {},
   "outputs": [],
   "source": []
  },
  {
   "cell_type": "code",
   "execution_count": null,
   "metadata": {},
   "outputs": [],
   "source": [
    "type(serial_connection)\n"
   ]
  },
  {
   "cell_type": "code",
   "execution_count": 9,
   "metadata": {},
   "outputs": [],
   "source": [
    "serial_connection.close()\n"
   ]
  },
  {
   "cell_type": "code",
   "execution_count": 1,
   "metadata": {},
   "outputs": [],
   "source": [
    "from src.stepper.device import Device\n",
    "\n",
    "serial_connection = Device.SerialConnection(\"COM3\", 115200, timeout=0.05)\n",
    "device_params = Device.DeviceParams(serial_connection=serial_connection, address=1)\n",
    "device = Device(device_params)"
   ]
  },
  {
   "cell_type": "code",
   "execution_count": 1,
   "metadata": {},
   "outputs": [
    {
     "name": "stdout",
     "output_type": "stream",
     "text": [
      "Testing read functions...\n",
      "version: VersionParams(firmware_version=2, hardware_version=130)\n",
      "motor_rh: MotorRHParams(phase_resistance=2120, phase_inductance=3180, resistance_unit=<ResistanceUnit.mOhm: 1>, inductance_unit=<InductanceUnit.uH: 1>, _r_value=2120.0, _h_value=3180.0)\n",
      "bus_voltage: BusVoltageParams(voltage=11516, unit=<VoltageUnit.mV: 1>, _value=11516.0)\n",
      "phase_current: PhaseCurrentParams(current=38, unit=<CurrentUnit.mA: 1>, _value=38.0)\n",
      "encoder_value: EncoderParams(encoder_value=60251, unit=<AngleUnit.deg: 182.04444444444445>, _value=330.9686279296875)\n",
      "pulse_count: PulseCountParams(pulse_count=1850610, microsteps=16, _value=115663.125, _angle=208193.62499999997)\n",
      "target_position: TargetPositionParams(position=37900486, unit=<AngleUnit.deg: 182.04444444444445>, _value=208193.58764648438)\n",
      "open_loop_setpoint: OpenLoopTargetPositionParams(position=37900486, unit=<AngleUnit.deg: 182.04444444444445>, _value=208193.58764648438)\n",
      "real_time_speed: RealTimeSpeedParams(speed=0, unit=<SpeedUnit.RPM: 1>, _value=0.0)\n",
      "real_time_position: RealTimePositionParams(position=37900488, unit=<AngleUnit.deg: 182.04444444444445>, _value=208193.5986328125)\n",
      "position_error: PositionErrorParams(error=1, unit=<AngleUnit.deg: 182.04444444444445>, _value=0.0054931640625)\n",
      "status: StepperStatus(status_code=3, enabled=True, in_position=True, stalled=False, stall_protection_active=False)\n",
      "sys_status: SystemParams(bus_voltage=11517, bus_phase_current=37, calibrated_encoder_value=60251, stepper_target_position=37900486, stepper_real_time_speed=0, stepper_real_time_position=37900485, stepper_position_error=1, homing_status=HomingStatus(status_code=3, encoder_ready=True, encoder_calibrated=True, is_homing=False, homing_failed=False), stepper_status=StepperStatus(status_code=3, enabled=True, in_position=True, stalled=False, stall_protection_active=False), voltage_unit=<VoltageUnit.mV: 1>, current_unit=<CurrentUnit.mA: 1>, angle_unit=<AngleUnit.deg: 182.04444444444445>, speed_unit=<SpeedUnit.RPM: 1>, _bus_voltage=11517.0, _bus_phase_current=37.0, _calibrated_encoder_value=330.9686279296875, _stepper_target_position=208193.58764648438, _stepper_real_time_speed=0.0, _stepper_real_time_position=208193.5821533203, _stepper_position_error=0.0054931640625)\n",
      "is_enabled: True\n",
      "is_in_position: True\n",
      "is_stalled: False\n",
      "is_stall_protection_active: False\n",
      "homing_status: HomingStatus(status_code=3, encoder_ready=True, encoder_calibrated=True, is_homing=False, homing_failed=False)\n",
      "encoder_ready: True\n",
      "encoder_calibrated: True\n",
      "is_homing: False\n",
      "is_homing_failed: False\n",
      "\n",
      "Testing movement functions...\n",
      "Testing jog functions...\n",
      "Testing timed jog...\n",
      "Testing relative moves...\n",
      "Testing absolute move...\n",
      "Testing homing...\n",
      "Homing in progress...\n",
      "Homing in progress...\n",
      "Movement tests successful\n",
      "\n",
      "Testing debug functions...\n",
      "Detected issues: ['not enabled']\n"
     ]
    }
   ],
   "source": [
    "\"\"\"Test script for stepper device read and move functions.\"\"\"\n",
    "\n",
    "import time\n",
    "from typing import Any\n",
    "\n",
    "from stepper.device.device import Device\n",
    "from stepper.stepper_core.parameters import DeviceParams, Direction, Speed\n",
    "\n",
    "\n",
    "def test_read_functions(device: Device) -> dict[str, Any]:\n",
    "    \"\"\"Test all read-only functions of the device.\n",
    "    \n",
    "    :param device: Device instance to test\n",
    "    :return: Dictionary containing all read values\n",
    "    \"\"\"\n",
    "    results = {}\n",
    "    \n",
    "    # Version and system information\n",
    "    results[\"version\"] = device.version\n",
    "    results[\"motor_rh\"] = device.motor_rh\n",
    "    results[\"bus_voltage\"] = device.bus_voltage\n",
    "    results[\"phase_current\"] = device.phase_current\n",
    "    \n",
    "    # Position and movement related\n",
    "    results[\"encoder_value\"] = device.encoder_value\n",
    "    results[\"pulse_count\"] = device.pulse_count\n",
    "    results[\"target_position\"] = device.target_position\n",
    "    results[\"open_loop_setpoint\"] = device.open_loop_setpoint\n",
    "    results[\"real_time_speed\"] = device.real_time_speed\n",
    "    results[\"real_time_position\"] = device.real_time_position\n",
    "    results[\"position_error\"] = device.position_error\n",
    "    \n",
    "    # Status information\n",
    "    results[\"status\"] = device.status\n",
    "    results[\"sys_status\"] = device.sys_status\n",
    "    results[\"is_enabled\"] = device.is_enabled\n",
    "    results[\"is_in_position\"] = device.is_in_position\n",
    "    results[\"is_stalled\"] = device.is_stalled\n",
    "    results[\"is_stall_protection_active\"] = device.is_stall_protection_active\n",
    "    \n",
    "    # Homing status\n",
    "    results[\"homing_status\"] = device.homing_status\n",
    "    results[\"encoder_ready\"] = device.encoder_ready\n",
    "    results[\"encoder_calibrated\"] = device.encoder_calibrated\n",
    "    results[\"is_homing\"] = device.is_homing\n",
    "    results[\"is_homing_failed\"] = device.is_homing_failed\n",
    "    \n",
    "    return results\n",
    "\n",
    "\n",
    "def test_basic_movement(device: Device) -> bool:\n",
    "    \"\"\"Test basic movement functions.\n",
    "    \n",
    "    :param device: Device instance to test\n",
    "    :return: True if all tests pass\n",
    "    \"\"\"\n",
    "    # Enable device\n",
    "    if not device.enable():\n",
    "        return False\n",
    "    \n",
    "    # Test jog functions\n",
    "    print(\"Testing jog functions...\")\n",
    "    device.jog_at_speed(Speed(1000))\n",
    "    device.wait(1)\n",
    "    device.stop()\n",
    "    \n",
    "    device.jog_cw()\n",
    "    device.wait(1)\n",
    "    device.stop()\n",
    "    \n",
    "    device.jog_ccw()\n",
    "    device.wait(1)\n",
    "    device.stop()\n",
    "    \n",
    "    # Test timed jog\n",
    "    print(\"Testing timed jog...\")\n",
    "    device.jog_time(2, Speed(1000))\n",
    "    \n",
    "    # Test relative moves\n",
    "    print(\"Testing relative moves...\")\n",
    "    device.move_cw(1000)\n",
    "    device.wait(2)\n",
    "    device.move_ccw(1000)\n",
    "    device.wait(2)\n",
    "    \n",
    "    # Test absolute move\n",
    "    print(\"Testing absolute move...\")\n",
    "    device.move_to(0)\n",
    "    device.wait(2)\n",
    "    \n",
    "    # Test homing\n",
    "    print(\"Testing homing...\")\n",
    "    device.home()\n",
    "    while device.is_homing:\n",
    "        device.wait(0.5)\n",
    "        print(\"Homing in progress...\")\n",
    "    \n",
    "    # Disable device\n",
    "    device.disable()\n",
    "    \n",
    "    return True\n",
    "\n",
    "\n",
    "def test_debug_functions(device: Device) -> list[str]:\n",
    "    \"\"\"Test debug functions.\n",
    "    \n",
    "    :param device: Device instance to test\n",
    "    :return: List of potential issues\n",
    "    \"\"\"\n",
    "    return device.debug()\n",
    "\n",
    "\n",
    "def main() -> None:\n",
    "    \"\"\"Main test function.\"\"\"\n",
    "    # Initialize device with default parameters\n",
    "\n",
    "    serial_connection = Device.SerialConnection(\"COM3\", 115200, timeout=0.05)\n",
    "    device_params = Device.DeviceParams(serial_connection=serial_connection, address=1)\n",
    "    device = Device(device_params)    \n",
    "    \n",
    "    print(\"Testing read functions...\")\n",
    "    read_results = test_read_functions(device)\n",
    "    for key, value in read_results.items():\n",
    "        print(f\"{key}: {value}\")\n",
    "    \n",
    "    print(\"\\nTesting movement functions...\")\n",
    "    movement_success = test_basic_movement(device)\n",
    "    print(f\"Movement tests {'successful' if movement_success else 'failed'}\")\n",
    "    \n",
    "    print(\"\\nTesting debug functions...\")\n",
    "    issues = test_debug_functions(device)\n",
    "    if issues:\n",
    "        print(\"Detected issues:\", issues)\n",
    "    else:\n",
    "        print(\"No issues detected\")\n",
    "\n",
    "\n",
    "if __name__ == \"__main__\":\n",
    "    main()"
   ]
  },
  {
   "cell_type": "code",
   "execution_count": 1,
   "metadata": {},
   "outputs": [],
   "source": [
    "import time\n",
    "from serial import Serial\n",
    "\n",
    "from src.stepper.commands.get import (\n",
    "    GetBusVoltage,\n",
    "    GetConfig,\n",
    "    GetEncoderValue,\n",
    "    GetPositionError,\n",
    "    GetMotorRH,\n",
    "    GetPID,\n",
    "    GetPhaseCurrent,\n",
    "    GetRealTimePosition,\n",
    "    GetRealTimeSpeed,\n",
    "    GetStatus,\n",
    "    GetSysStatus,\n",
    "    GetTargetPosition,\n",
    "    GetVersion,\n",
    ")\n",
    "from src.stepper.commands.home import (\n",
    "    GetHomeStatus,\n",
    "    Home,\n",
    "    RetrieveHomeParam,\n",
    "    SetHome,\n",
    "    SetHomeParam,\n",
    "    StopHome,\n",
    ")\n",
    "from src.stepper.commands.move import Disable, EStop, Enable, Jog, Move, SyncMove\n",
    "from src.stepper.commands.set import (\n",
    "    Kpid,\n",
    "    LoopMode,\n",
    "    Microstep,\n",
    "    OpenLoopCurrent,\n",
    "    SetConfig,\n",
    "    SetID,\n",
    "    SetLoopMode,\n",
    "    SetMicrostep,\n",
    "    SetOpenLoopCurrent,\n",
    "    SetPID,\n",
    "    SetReduction,\n",
    "    SetStartSpeed,\n",
    "    SpeedReduction,\n",
    "    StartSpeedParams,\n",
    ")\n",
    "from src.stepper.commands.system import CalibrateEncoder, ZeroAllPositions\n",
    "from src.stepper.stepper_core.configs import (\n",
    "    AbsoluteFlag,\n",
    "    Acceleration,\n",
    "    Address,\n",
    "    Direction,\n",
    "    HomingMode,\n",
    "    PulseCount,\n",
    "    Speed,\n",
    "    SyncFlag,\n",
    ")\n",
    "from src.stepper.stepper_core.parameters import DeviceParams, JogParams, PositionParams\n",
    "\n",
    "serial_connection = Serial(\"COM3\", 115200, timeout=0.1)\n",
    "\n",
    "device_params = DeviceParams(\n",
    "    serial_connection=serial_connection,\n",
    "    address=Address(0x01),\n",
    ")\n",
    "\n",
    "position_params = PositionParams(\n",
    "    direction=Direction.CW,\n",
    "    speed=Speed(500),\n",
    "    acceleration=Acceleration(127),\n",
    "    pulse_count=PulseCount(160),\n",
    "    absolute=AbsoluteFlag.RELATIVE,\n",
    ")\n",
    "\n",
    "jog_params = JogParams(\n",
    "    direction=Direction.CW,\n",
    "    speed=Speed(100),\n",
    "    acceleration=Acceleration(255),\n",
    ")"
   ]
  },
  {
   "cell_type": "code",
   "execution_count": null,
   "metadata": {},
   "outputs": [],
   "source": [
    "SetHome(device=device_params).status\n",
    "\n",
    "zero_all_positions = ZeroAllPositions\n",
    "zero_all_positions.unlock()\n",
    "zero_all_positions(device=device_params).status\n"
   ]
  },
  {
   "cell_type": "code",
   "execution_count": 28,
   "metadata": {},
   "outputs": [],
   "source": [
    "device.move()\n"
   ]
  },
  {
   "cell_type": "code",
   "execution_count": null,
   "metadata": {},
   "outputs": [],
   "source": [
    "position_params = PositionParams(\n",
    "    direction=Direction.CW,\n",
    "    speed=Speed(250),\n",
    "    acceleration=Acceleration(200),\n",
    "    pulse_count=PulseCount(160),\n",
    "    absolute=AbsoluteFlag.RELATIVE,\n",
    ")\n",
    "\n",
    "Enable(device=device_params).status\n",
    "Move(device=device_params, params=position_params).status\n",
    "time.sleep(0.1)\n",
    "print(GetPositionError(device=device_params).raw_data.data_dict)\n",
    "print(GetRealTimePosition(device=device_params).raw_data.data_dict)\n",
    "print(GetTargetPosition(device=device_params).raw_data.data_dict)\n"
   ]
  },
  {
   "cell_type": "code",
   "execution_count": null,
   "metadata": {},
   "outputs": [],
   "source": [
    "Disable(device=device_params).status\n",
    "Move(device=device_params, params=position_params).status\n",
    "# This should show a CONDITIONAL_ERROR  "
   ]
  },
  {
   "cell_type": "code",
   "execution_count": null,
   "metadata": {},
   "outputs": [],
   "source": [
    "Jog(device=device_params, params=jog_params).status"
   ]
  },
  {
   "cell_type": "code",
   "execution_count": null,
   "metadata": {},
   "outputs": [],
   "source": [
    "EStop(device=device_params).status"
   ]
  },
  {
   "cell_type": "code",
   "execution_count": null,
   "metadata": {},
   "outputs": [],
   "source": [
    "Move(device=device_params, params=position_params, setting=SyncFlag.SYNC).is_success\n",
    "SyncMove(device=device_params).status"
   ]
  },
  {
   "cell_type": "code",
   "execution_count": null,
   "metadata": {},
   "outputs": [],
   "source": [
    "position_params = PositionParams(\n",
    "    direction=Direction.CW,\n",
    "    speed=Speed(100),\n",
    "    acceleration=Acceleration(255),\n",
    "    pulse_count=PulseCount(6400),\n",
    "    absolute=AbsoluteFlag.RELATIVE,\n",
    ")\n",
    "\n",
    "SetHome(device=device_params).status\n",
    "Move(device=device_params, params=position_params).status\n",
    "\n"
   ]
  },
  {
   "cell_type": "code",
   "execution_count": null,
   "metadata": {},
   "outputs": [],
   "source": [
    "Home(device=device_params, params=HomingMode.MULTI_TURN_UNLIMITED).status\n",
    "# sleep(1)\n",
    "# StopHome(device=device_params).status"
   ]
  },
  {
   "cell_type": "code",
   "execution_count": null,
   "metadata": {},
   "outputs": [],
   "source": [
    "RetrieveHomeParam(device=device_params).data"
   ]
  },
  {
   "cell_type": "code",
   "execution_count": 13,
   "metadata": {},
   "outputs": [],
   "source": [
    "homing_params = RetrieveHomeParam(device=device_params).raw_data\n"
   ]
  },
  {
   "cell_type": "code",
   "execution_count": null,
   "metadata": {},
   "outputs": [],
   "source": [
    "homing_params.bytes"
   ]
  },
  {
   "cell_type": "code",
   "execution_count": null,
   "metadata": {},
   "outputs": [],
   "source": [
    "SetHomeParam(device=device_params, params=homing_params).status"
   ]
  },
  {
   "cell_type": "code",
   "execution_count": null,
   "metadata": {},
   "outputs": [],
   "source": [
    "Move(device=device_params, params=position_params).status\n",
    "\n"
   ]
  },
  {
   "cell_type": "code",
   "execution_count": null,
   "metadata": {},
   "outputs": [],
   "source": [
    "Home(device=device_params, params=HomingMode.SINGLE_TURN_NEAREST).status"
   ]
  },
  {
   "cell_type": "code",
   "execution_count": null,
   "metadata": {},
   "outputs": [],
   "source": [
    "GetHomeStatus(device=device_params).raw_data.data_dict"
   ]
  },
  {
   "cell_type": "code",
   "execution_count": null,
   "metadata": {},
   "outputs": [],
   "source": [
    "\n",
    "calibrate_encoder = CalibrateEncoder\n",
    "calibrate_encoder.unlock()\n",
    "calibrate_encoder(device=device_params).status\n"
   ]
  },
  {
   "cell_type": "code",
   "execution_count": null,
   "metadata": {},
   "outputs": [],
   "source": [
    "\n",
    "print(GetVersion(device=device_params).data)\n",
    "print(GetMotorRH(device=device_params).data)\n",
    "print(GetPID(device=device_params).data)\n",
    "print(GetConfig(device=device_params).data)\n",
    "print(GetStatus(device=device_params).data)\n",
    "print(GetPositionError(device=device_params).data)\n",
    "print(GetSysStatus(device=device_params).data)\n",
    "print(GetBusVoltage(device=device_params).data)\n",
    "print(GetPhaseCurrent(device=device_params).data)\n",
    "print(GetEncoderValue(device=device_params).data)\n",
    "\n"
   ]
  },
  {
   "cell_type": "code",
   "execution_count": null,
   "metadata": {},
   "outputs": [],
   "source": [
    "from itertools import chain\n",
    "\n",
    "sys_status = GetSysStatus(device=device_params).raw_data\n",
    "config_params = GetConfig(device=device_params).raw_data\n",
    "for key, value in sorted(chain(sys_status.data_dict.items(), config_params.data_dict.items())):\n",
    "    print(f\"{key}: {value}\")\n"
   ]
  },
  {
   "cell_type": "code",
   "execution_count": null,
   "metadata": {},
   "outputs": [],
   "source": [
    "Set_Microstep = SetMicrostep\n",
    "Set_Microstep.unlock()\n",
    "Set_Microstep(device=device_params, params=Microstep(value=16)).status"
   ]
  },
  {
   "cell_type": "code",
   "execution_count": null,
   "metadata": {},
   "outputs": [],
   "source": [
    "Set_ID = SetID\n",
    "Set_ID.unlock()\n",
    "Set_ID(device=device_params, params=Address(value=1)).status\n"
   ]
  },
  {
   "cell_type": "code",
   "execution_count": null,
   "metadata": {},
   "outputs": [],
   "source": [
    "SetLoopMode = SetLoopMode\n",
    "SetLoopMode.unlock()\n",
    "SetLoopMode(device=device_params, params=LoopMode.CLOSED).status\n"
   ]
  },
  {
   "cell_type": "code",
   "execution_count": null,
   "metadata": {},
   "outputs": [],
   "source": [
    "Set_open_loop_current = SetOpenLoopCurrent\n",
    "Set_open_loop_current.unlock()\n",
    "Set_open_loop_current(device=device_params, params=OpenLoopCurrent(value=800)).status"
   ]
  },
  {
   "cell_type": "code",
   "execution_count": null,
   "metadata": {},
   "outputs": [],
   "source": [
    "PID_params = GetPID(device=device_params).raw_data\n",
    "print(PID_params.data_dict)\n",
    "Set_PID = SetPID\n",
    "Set_PID.unlock()\n",
    "Set_PID(device=device_params, params=PID_params).status\n"
   ]
  },
  {
   "cell_type": "code",
   "execution_count": null,
   "metadata": {},
   "outputs": [],
   "source": [
    "from src.stepper.stepper_constants import EnablePin\n",
    "start_speed_params = StartSpeedParams(\n",
    "    direction=Direction.CW,\n",
    "    speed=Speed(1000),\n",
    "    acceleration=Acceleration(255),\n",
    "    en_control=EnablePin.ENABLE,\n",
    ")\n",
    "Set_StartSpeed = SetStartSpeed\n",
    "Set_StartSpeed.unlock()\n",
    "Set_StartSpeed(device=device_params, params=start_speed_params).status"
   ]
  },
  {
   "cell_type": "code",
   "execution_count": null,
   "metadata": {},
   "outputs": [],
   "source": [
    "from src.stepper.stepper_core.configs import StallTime\n",
    "\n",
    "config_params = GetConfig(device=device_params).raw_data\n",
    "print(\"Initial Config:\")\n",
    "for key, value in sorted(config_params.data_dict.items()):\n",
    "    print(f\"{key}: {value}\")\n",
    "\n",
    "config_params.microstep = Microstep(value=32)\n",
    "config_params.stall_time = StallTime(value=100)\n",
    "\n",
    "Set_Config = SetConfig\n",
    "Set_Config.unlock()\n",
    "Set_Config(device=device_params, params=config_params).status\n",
    "\n",
    "config_params = GetConfig(device=device_params).raw_data\n",
    "print(\"-----------------------\")\n",
    "print(\"Changed Config:\")\n",
    "for key, value in sorted(config_params.data_dict.items()):\n",
    "    print(f\"{key}: {value}\")\n",
    "\n",
    "config_params.microstep = Microstep(Microstep.default)\n",
    "config_params.stall_time = StallTime(StallTime.default)\n",
    "\n",
    "Set_Config = SetConfig\n",
    "Set_Config.unlock()\n",
    "Set_Config(device=device_params, params=config_params).status\n",
    "\n",
    "\n",
    "config_params = GetConfig(device=device_params).raw_data\n",
    "print(\"-----------------------\")\n",
    "print(\"Changed Config:\")\n",
    "for key, value in sorted(config_params.data_dict.items()):\n",
    "    print(f\"{key}: {value}\")\n",
    "\n"
   ]
  }
 ],
 "metadata": {
  "kernelspec": {
   "display_name": "flir",
   "language": "python",
   "name": "python3"
  },
  "language_info": {
   "codemirror_mode": {
    "name": "ipython",
    "version": 3
   },
   "file_extension": ".py",
   "mimetype": "text/x-python",
   "name": "python",
   "nbconvert_exporter": "python",
   "pygments_lexer": "ipython3",
   "version": "3.10.14"
  }
 },
 "nbformat": 4,
 "nbformat_minor": 2
}
