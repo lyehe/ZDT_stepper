{
 "cells": [
  {
   "cell_type": "code",
   "execution_count": null,
   "metadata": {},
   "outputs": [],
   "source": [
    "from src.serial_utilities.serial_utilities import (\n",
    "    detect_baudrate,\n",
    "    detect_port,\n",
    "    test_connection,\n",
    "    list_ports_info,\n",
    "    print_ports_info,\n",
    "    scan_ports,\n",
    "    TestCase,\n",
    ")\n",
    "import logging\n",
    "\n",
    "logging.basicConfig(level=logging.DEBUG)\n",
    "\n",
    "print_ports_info()\n",
    "test_connection(\"COM3\", 115200, test_case=TestCase.default())\n",
    "scan_ports(test_case=TestCase.default())\n"
   ]
  },
  {
   "cell_type": "code",
   "execution_count": 1,
   "metadata": {},
   "outputs": [],
   "source": [
    "from src.stepper.stepper_move import Enable, Disable, Jog, Move, EStop, SyncMove\n",
    "from src.stepper.stepper_home import SetHome, Home, StopHome, RetrieveHomeParam, SetHomeParam, GetHomeStatus\n",
    "\n",
    "from src.stepper.stepper_parameters import PositionParams, JogParams, DeviceParams\n",
    "from src.stepper.stepper_constants import Address, SyncFlag, Direction, Speed, Acceleration, PulseCount, AbsoluteFlag, HomingMode\n",
    "\n",
    "from serial import Serial\n",
    " \n",
    "# from time import sleep\n",
    "# import logging\n",
    "# logging.basicConfig(level=logging.DEBUG)\n",
    "\n",
    "\n",
    "serial_connection = Serial(\"COM3\", 115200, timeout=0.1)\n",
    "\n",
    "device_params = DeviceParams(\n",
    "    serial_connection=serial_connection,\n",
    "    address=Address(0x01),\n",
    ")\n",
    "\n",
    "position_params = PositionParams(\n",
    "    direction=Direction.CW,\n",
    "    speed=Speed(500),\n",
    "    acceleration=Acceleration(127),\n",
    "    pulse_count=PulseCount(160),\n",
    "    absolute=AbsoluteFlag.RELATIVE,\n",
    ")\n",
    "\n",
    "jog_params = JogParams(\n",
    "    direction=Direction.CW,\n",
    "    speed=Speed(1),\n",
    "    acceleration=Acceleration(255),\n",
    ")"
   ]
  },
  {
   "cell_type": "code",
   "execution_count": null,
   "metadata": {},
   "outputs": [],
   "source": [
    "Enable(device=device_params).status\n",
    "Move(device=device_params, params=position_params).status\n"
   ]
  },
  {
   "cell_type": "code",
   "execution_count": null,
   "metadata": {},
   "outputs": [],
   "source": [
    "Disable(device=device_params).status\n",
    "Move(device=device_params, params=position_params).status"
   ]
  },
  {
   "cell_type": "code",
   "execution_count": null,
   "metadata": {},
   "outputs": [],
   "source": [
    "Jog(device=device_params, params=jog_params).status"
   ]
  },
  {
   "cell_type": "code",
   "execution_count": null,
   "metadata": {},
   "outputs": [],
   "source": [
    "EStop(device=device_params).status"
   ]
  },
  {
   "cell_type": "code",
   "execution_count": null,
   "metadata": {},
   "outputs": [],
   "source": [
    "Move(device=device_params, params=position_params, setting=SyncFlag.SYNC).is_success\n",
    "SyncMove(device=device_params).status"
   ]
  },
  {
   "cell_type": "code",
   "execution_count": null,
   "metadata": {},
   "outputs": [],
   "source": [
    "position_params = PositionParams(\n",
    "    direction=Direction.CW,\n",
    "    speed=Speed(100),\n",
    "    acceleration=Acceleration(255),\n",
    "    pulse_count=PulseCount(6400),\n",
    "    absolute=AbsoluteFlag.RELATIVE,\n",
    ")\n",
    "\n",
    "SetHome(device=device_params).status\n",
    "Move(device=device_params, params=position_params).status\n",
    "\n"
   ]
  },
  {
   "cell_type": "code",
   "execution_count": null,
   "metadata": {},
   "outputs": [],
   "source": [
    "Home(device=device_params, params=HomingMode.MULTI_TURN_UNLIMITED).status\n",
    "# sleep(1)\n",
    "# StopHome(device=device_params).status"
   ]
  },
  {
   "cell_type": "code",
   "execution_count": null,
   "metadata": {},
   "outputs": [],
   "source": [
    "RetrieveHomeParam(device=device_params).data"
   ]
  },
  {
   "cell_type": "code",
   "execution_count": null,
   "metadata": {},
   "outputs": [],
   "source": [
    "homing_params = RetrieveHomeParam(device=device_params).raw_data\n"
   ]
  },
  {
   "cell_type": "code",
   "execution_count": null,
   "metadata": {},
   "outputs": [],
   "source": [
    "homing_params.bytes"
   ]
  },
  {
   "cell_type": "code",
   "execution_count": null,
   "metadata": {},
   "outputs": [],
   "source": [
    "SetHomeParam(device=device_params, params=homing_params).status"
   ]
  },
  {
   "cell_type": "code",
   "execution_count": null,
   "metadata": {},
   "outputs": [],
   "source": [
    "Move(device=device_params, params=position_params).status\n",
    "\n"
   ]
  },
  {
   "cell_type": "code",
   "execution_count": null,
   "metadata": {},
   "outputs": [],
   "source": [
    "Home(device=device_params, params=HomingMode.SINGLE_TURN_NEAREST).status"
   ]
  },
  {
   "cell_type": "code",
   "execution_count": null,
   "metadata": {},
   "outputs": [],
   "source": [
    "GetHomeStatus(device=device_params).raw_data.__dict__"
   ]
  },
  {
   "cell_type": "code",
   "execution_count": null,
   "metadata": {},
   "outputs": [],
   "source": [
    "from src.stepper.stepper_sys import CalibrateEncoder\n",
    "\n",
    "# Unlock system command\n",
    "\n",
    "calibrate_encoder = CalibrateEncoder\n",
    "calibrate_encoder.unlock()\n",
    "calibrate_encoder(device=device_params).status\n"
   ]
  },
  {
   "cell_type": "code",
   "execution_count": 2,
   "metadata": {},
   "outputs": [
    {
     "name": "stdout",
     "output_type": "stream",
     "text": [
      "{'firmware_version': 2, 'hardware_version': 130}\n",
      "{'phase_resistance mOhm': 2120.0, 'phase_inductance uH': 3180.0}\n",
      "{'pid_p': 64000, 'pid_i': 100, 'pid_d': 64000}\n",
      "{'stepper_type': <MotorType.D18: 25>, 'control_mode': <ControlMode.PUL_FOC: 2>, 'communication_mode': <CommunicationMode.UART: 2>, 'enable_level': <EnableLevel.HOLD: 2>, 'default_direction': <Direction.CW: 0>, 'microsteps': 16, 'microstep_interp': <MicrostepInterp.ENABLE: 1>, 'screen_off': <ScreenOff.DISABLE: 0>, 'open_loop_current': 1000, 'max_closed_loop_current': 2400, 'max_voltage': 5000, 'baud_rate': <BaudRate.BAUD_115200: 5>, 'can_rate': <CanRate.CAN_500K: 7>, 'address': 1, 'checksum_mode': <ChecksumMode.FIXED: 0>, 'response_mode': <ResponseMode.RECEIVE: 1>, 'stall_protect': <StallProtect.ENABLE: 1>, 'stall_speed': 8, 'stall_current': 2200, 'stall_time': 2000, 'on_target_window': 3, 'current_unit': <CurrentUnit.mA: 1>, 'voltage_unit': <VoltageUnit.mV: 1>, 'angle_unit': <AngleUnit.deg: 182.04444444444445>, 'time_unit': <TimeUnit.ms: 1>, 'speed_unit': <SpeedUnit.RPM: 1>}\n",
      "{'enabled': True, 'in_position': True, 'stalled': False, 'stall_protection_active': False}\n",
      "{'position_error (deg)': -0.0604248046875}\n",
      "{'bus_voltage (mV)': 11481.0, 'bus_phase_current (mA)': 115.0, 'calibrated_encoder_value (deg)': 0.0604248046875, 'stepper_target_position (deg)': 0.0, 'stepper_real_time_speed (RPM)': 0.0, 'stepper_real_time_position (deg)': 0.0604248046875, 'stepper_position_error (deg)': -0.0604248046875, 'encoder_ready': True, 'encoder_calibrated': True, 'is_homing': False, 'homing_failed': False, 'stepper_enabled': True, 'stepper_in_position': True, 'stepper_stalled': False, 'stepper_stall_protection_active': False}\n",
      "{'voltage (mV)': 11488.0}\n",
      "{'current (mA)': 115.0}\n",
      "{'encoder_value (deg)': 0.0604248046875}\n"
     ]
    }
   ],
   "source": [
    "from src.stepper.stepper_get import (\n",
    "    GetBusVoltage,\n",
    "    GetPhaseCurrent,\n",
    "    GetEncoderValue,\n",
    "    GetVersion,\n",
    "    GetMotorRH,\n",
    "    GetPID,\n",
    "    GetConfig,\n",
    "    GetStatus,\n",
    "    GetError,\n",
    "    GetSysStatus,\n",
    ")\n",
    "\n",
    "print(GetVersion(device=device_params).data)\n",
    "print(GetMotorRH(device=device_params).data)\n",
    "print(GetPID(device=device_params).data)\n",
    "print(GetConfig(device=device_params).data)\n",
    "print(GetStatus(device=device_params).data)\n",
    "print(GetError(device=device_params).data)\n",
    "print(GetSysStatus(device=device_params).data)\n",
    "print(GetBusVoltage(device=device_params).data)\n",
    "print(GetPhaseCurrent(device=device_params).data)\n",
    "print(GetEncoderValue(device=device_params).data)\n",
    "\n"
   ]
  },
  {
   "cell_type": "code",
   "execution_count": null,
   "metadata": {},
   "outputs": [],
   "source": []
  },
  {
   "cell_type": "code",
   "execution_count": null,
   "metadata": {},
   "outputs": [],
   "source": [
    "a = 1\n",
    "b = bytes(2)*2\n",
    "len(b)\n"
   ]
  }
 ],
 "metadata": {
  "kernelspec": {
   "display_name": "flir",
   "language": "python",
   "name": "python3"
  },
  "language_info": {
   "codemirror_mode": {
    "name": "ipython",
    "version": 3
   },
   "file_extension": ".py",
   "mimetype": "text/x-python",
   "name": "python",
   "nbconvert_exporter": "python",
   "pygments_lexer": "ipython3",
   "version": "3.10.15"
  }
 },
 "nbformat": 4,
 "nbformat_minor": 2
}
