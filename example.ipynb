{
 "cells": [
  {
   "cell_type": "code",
   "execution_count": null,
   "metadata": {},
   "outputs": [],
   "source": [
    "from src.serial_utilities.serial_utilities import (\n",
    "    detect_baudrate,\n",
    "    detect_port,\n",
    "    test_connection,\n",
    "    list_ports_info,\n",
    "    print_ports_info,\n",
    "    scan_ports,\n",
    "    TestCase,\n",
    ")\n",
    "import logging\n",
    "\n",
    "logging.basicConfig(level=logging.DEBUG)\n",
    "\n",
    "print_ports_info()\n",
    "test_connection(\"COM3\", 115200, test_case=TestCase.default())\n",
    "scan_ports(test_case=TestCase.default())\n"
   ]
  },
  {
   "cell_type": "code",
   "execution_count": 1,
   "metadata": {},
   "outputs": [
    {
     "data": {
      "text/plain": [
       "<ChecksumMode.FIXED: 0>"
      ]
     },
     "execution_count": 1,
     "metadata": {},
     "output_type": "execute_result"
    }
   ],
   "source": [
    "from src.stepper.stepper_move import Enable, Disable, Jog, Move\n",
    "from src.stepper.stepper_parameters import PositionParams, JogParams, DeviceParams\n",
    "from src.stepper.stepper_constants import Address\n",
    "from serial import Serial\n",
    "\n",
    "serial_connection = Serial(\"COM3\", 115200, timeout=0.1)\n",
    "\n",
    "device_params = DeviceParams(\n",
    "    serial_connection=serial_connection,\n",
    "    address=Address(0x01),\n",
    ")\n",
    "\n",
    "device_params.checksum_mode.default\n"
   ]
  },
  {
   "cell_type": "code",
   "execution_count": 2,
   "metadata": {},
   "outputs": [
    {
     "ename": "AttributeError",
     "evalue": "can't set attribute 'acceleration'",
     "output_type": "error",
     "traceback": [
      "\u001b[1;31m---------------------------------------------------------------------------\u001b[0m",
      "\u001b[1;31mAttributeError\u001b[0m                            Traceback (most recent call last)",
      "Cell \u001b[1;32mIn[2], line 15\u001b[0m\n\u001b[0;32m      4\u001b[0m logging\u001b[38;5;241m.\u001b[39mbasicConfig(level\u001b[38;5;241m=\u001b[39mlogging\u001b[38;5;241m.\u001b[39mDEBUG)\n\u001b[0;32m      7\u001b[0m position_params \u001b[38;5;241m=\u001b[39m PositionParams(\n\u001b[0;32m      8\u001b[0m     direction\u001b[38;5;241m=\u001b[39mDirection\u001b[38;5;241m.\u001b[39mCW,\n\u001b[0;32m      9\u001b[0m     speed\u001b[38;5;241m=\u001b[39mSpeed(\u001b[38;5;241m500\u001b[39m),\n\u001b[1;32m   (...)\u001b[0m\n\u001b[0;32m     12\u001b[0m     absolute\u001b[38;5;241m=\u001b[39mAbsoluteFlag\u001b[38;5;241m.\u001b[39mRELATIVE,\n\u001b[0;32m     13\u001b[0m )\n\u001b[1;32m---> 15\u001b[0m jog_params \u001b[38;5;241m=\u001b[39m \u001b[43mVelocityParams\u001b[49m\u001b[43m(\u001b[49m\n\u001b[0;32m     16\u001b[0m \u001b[43m    \u001b[49m\u001b[43mdirection\u001b[49m\u001b[38;5;241;43m=\u001b[39;49m\u001b[43mDirection\u001b[49m\u001b[38;5;241;43m.\u001b[39;49m\u001b[43mCW\u001b[49m\u001b[43m,\u001b[49m\n\u001b[0;32m     17\u001b[0m \u001b[43m    \u001b[49m\u001b[43mspeed\u001b[49m\u001b[38;5;241;43m=\u001b[39;49m\u001b[43mSpeed\u001b[49m\u001b[43m(\u001b[49m\u001b[38;5;241;43m100\u001b[39;49m\u001b[43m)\u001b[49m\u001b[43m,\u001b[49m\n\u001b[0;32m     18\u001b[0m \u001b[43m    \u001b[49m\u001b[43macceleration\u001b[49m\u001b[38;5;241;43m=\u001b[39;49m\u001b[43mAcceleration\u001b[49m\u001b[43m(\u001b[49m\u001b[38;5;241;43m255\u001b[39;49m\u001b[43m)\u001b[49m\u001b[43m,\u001b[49m\n\u001b[0;32m     19\u001b[0m \u001b[43m)\u001b[49m\n",
      "File \u001b[1;32m<string>:4\u001b[0m, in \u001b[0;36m__init__\u001b[1;34m(self, direction, speed, acceleration)\u001b[0m\n",
      "\u001b[1;31mAttributeError\u001b[0m: can't set attribute 'acceleration'"
     ]
    }
   ],
   "source": [
    "from src.stepper.stepper_constants import Direction, AbsoluteFlag, Speed, Acceleration, PulseCount\n",
    "import logging\n",
    "\n",
    "logging.basicConfig(level=logging.DEBUG)\n",
    "\n",
    "\n",
    "position_params = PositionParams(\n",
    "    direction=Direction.CW,\n",
    "    speed=Speed(500),\n",
    "    acceleration=Acceleration(255),\n",
    "    pulse_count=PulseCount(1600),\n",
    "    absolute=AbsoluteFlag.RELATIVE,\n",
    ")\n",
    "\n",
    "jog_params = JogParams(\n",
    "    direction=Direction.CW,\n",
    "    speed=Speed(100),\n",
    "    acceleration=Acceleration(255),\n",
    ")\n",
    "\n",
    "\n"
   ]
  },
  {
   "cell_type": "code",
   "execution_count": 75,
   "metadata": {},
   "outputs": [
    {
     "name": "stderr",
     "output_type": "stream",
     "text": [
      "WARNING:src.stepper.stepper_move:Sync flag not provided, using default\n",
      "DEBUG:src.stepper.stepper_command:Sending b'\\x01\\xfd\\x00\\x01\\xf4\\xff\\x00\\x00\\x06@\\x00\\x00k'\n",
      "DEBUG:src.stepper.stepper_command:Received address: b'\\x01', expected: 1\n",
      "DEBUG:src.stepper.stepper_command:Received code: b'\\xfd'\n",
      "DEBUG:src.stepper.stepper_command:Received data: b'\\x02'\n",
      "DEBUG:src.stepper.stepper_command:Received checksum: b'k', expected: b'k'\n"
     ]
    },
    {
     "data": {
      "text/plain": [
       "True"
      ]
     },
     "execution_count": 75,
     "metadata": {},
     "output_type": "execute_result"
    }
   ],
   "source": [
    "Move(device=device_params, params=position_params).is_success"
   ]
  },
  {
   "cell_type": "code",
   "execution_count": null,
   "metadata": {},
   "outputs": [],
   "source": [
    "Jog(device=device_params, params=JogParams).is_success\n"
   ]
  }
 ],
 "metadata": {
  "kernelspec": {
   "display_name": "flir",
   "language": "python",
   "name": "python3"
  },
  "language_info": {
   "codemirror_mode": {
    "name": "ipython",
    "version": 3
   },
   "file_extension": ".py",
   "mimetype": "text/x-python",
   "name": "python",
   "nbconvert_exporter": "python",
   "pygments_lexer": "ipython3",
   "version": "3.10.15"
  }
 },
 "nbformat": 4,
 "nbformat_minor": 2
}
