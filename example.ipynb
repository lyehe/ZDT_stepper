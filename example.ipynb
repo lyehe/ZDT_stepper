{
 "cells": [
  {
   "cell_type": "code",
   "execution_count": null,
   "metadata": {},
   "outputs": [],
   "source": [
    "from src.serial_utilities.serial_utilities import (\n",
    "    detect_baudrate,\n",
    "    detect_port,\n",
    "    test_connection,\n",
    "    list_ports_info,\n",
    "    print_ports_info,\n",
    "    scan_ports,\n",
    "    TestCase,\n",
    ")\n",
    "import logging\n",
    "\n",
    "logging.basicConfig(level=logging.DEBUG)\n",
    "\n",
    "print_ports_info()\n",
    "test_connection(\"COM3\", 115200, test_case=TestCase.default())\n",
    "scan_ports(test_case=TestCase.default())\n"
   ]
  },
  {
   "cell_type": "code",
   "execution_count": 1,
   "metadata": {},
   "outputs": [],
   "source": [
    "from src.stepper.stepper_move import Enable, Disable, Jog, Move, EStop, SyncMove\n",
    "from src.stepper.stepper_home import SetHome, Home, StopHome, RetrieveHomeParam, SetHomeParam, GetHomeStatus\n",
    "\n",
    "from src.stepper.stepper_parameters import PositionParams, JogParams, DeviceParams\n",
    "from src.stepper.stepper_constants import Address, SyncFlag, Direction, Speed, Acceleration, PulseCount, AbsoluteFlag, HomingMode\n",
    "\n",
    "from serial import Serial\n",
    " \n",
    "from time import sleep\n",
    "import logging\n",
    "logging.basicConfig(level=logging.DEBUG)\n",
    "\n",
    "\n",
    "serial_connection = Serial(\"COM4\", 115200, timeout=0.1)\n",
    "\n",
    "device_params = DeviceParams(\n",
    "    serial_connection=serial_connection,\n",
    "    address=Address(0x01),\n",
    ")\n",
    "\n",
    "position_params = PositionParams(\n",
    "    direction=Direction.CW,\n",
    "    speed=Speed(500),\n",
    "    acceleration=Acceleration(255),\n",
    "    pulse_count=PulseCount(160),\n",
    "    absolute=AbsoluteFlag.RELATIVE,\n",
    ")\n",
    "\n",
    "jog_params = JogParams(\n",
    "    direction=Direction.CW,\n",
    "    speed=Speed(1),\n",
    "    acceleration=Acceleration(255),\n",
    ")"
   ]
  },
  {
   "cell_type": "code",
   "execution_count": null,
   "metadata": {},
   "outputs": [],
   "source": [
    "Enable(device=device_params).status\n",
    "Move(device=device_params, params=position_params).status\n"
   ]
  },
  {
   "cell_type": "code",
   "execution_count": null,
   "metadata": {},
   "outputs": [],
   "source": [
    "Disable(device=device_params).status\n",
    "Move(device=device_params, params=position_params).status"
   ]
  },
  {
   "cell_type": "code",
   "execution_count": null,
   "metadata": {},
   "outputs": [],
   "source": [
    "Jog(device=device_params, params=jog_params).status"
   ]
  },
  {
   "cell_type": "code",
   "execution_count": null,
   "metadata": {},
   "outputs": [],
   "source": [
    "EStop(device=device_params).status"
   ]
  },
  {
   "cell_type": "code",
   "execution_count": null,
   "metadata": {},
   "outputs": [],
   "source": [
    "Move(device=device_params, params=position_params, setting=SyncFlag.SYNC).is_success\n",
    "SyncMove(device=device_params).status"
   ]
  },
  {
   "cell_type": "code",
   "execution_count": 2,
   "metadata": {},
   "outputs": [
    {
     "name": "stderr",
     "output_type": "stream",
     "text": [
      "DEBUG:src.stepper.stepper_command:Sending b'\\x01\\x93\\x88\\x00k'\n",
      "DEBUG:src.stepper.stepper_command:Received address: b'\\x01', expected: 1\n",
      "DEBUG:src.stepper.stepper_command:Received code: b'\\x93'\n",
      "DEBUG:src.stepper.stepper_command:Received data: b'\\x02'\n",
      "DEBUG:src.stepper.stepper_command:Received checksum: b'k', expected: b'k'\n",
      "DEBUG:src.stepper.stepper_command:Sending b'\\x01\\xfd\\x00\\x00d\\xff\\x00\\x00\\x19\\x00\\x00\\x00k'\n",
      "DEBUG:src.stepper.stepper_command:Received address: b'\\x01', expected: 1\n",
      "DEBUG:src.stepper.stepper_command:Received code: b'\\xfd'\n",
      "DEBUG:src.stepper.stepper_command:Received data: b'\\x02'\n",
      "DEBUG:src.stepper.stepper_command:Received checksum: b'k', expected: b'k'\n"
     ]
    },
    {
     "data": {
      "text/plain": [
       "'SUCCESS'"
      ]
     },
     "execution_count": 2,
     "metadata": {},
     "output_type": "execute_result"
    }
   ],
   "source": [
    "\n",
    "position_params = PositionParams(\n",
    "    direction=Direction.CW,\n",
    "    speed=Speed(100),\n",
    "    acceleration=Acceleration(255),\n",
    "    pulse_count=PulseCount(6400),\n",
    "    absolute=AbsoluteFlag.RELATIVE,\n",
    ")\n",
    "\n",
    "SetHome(device=device_params).status\n",
    "Move(device=device_params, params=position_params).status\n",
    "\n"
   ]
  },
  {
   "cell_type": "code",
   "execution_count": 8,
   "metadata": {},
   "outputs": [
    {
     "name": "stderr",
     "output_type": "stream",
     "text": [
      "DEBUG:src.stepper.stepper_command:Sending b'\\x01\\x9a\\x02\\x00k'\n",
      "DEBUG:src.stepper.stepper_command:Received address: b'\\x01', expected: 1\n",
      "DEBUG:src.stepper.stepper_command:Received code: b'\\x9a'\n",
      "DEBUG:src.stepper.stepper_command:Received data: b'\\x02'\n",
      "DEBUG:src.stepper.stepper_command:Received checksum: b'k', expected: b'k'\n"
     ]
    },
    {
     "data": {
      "text/plain": [
       "'SUCCESS'"
      ]
     },
     "execution_count": 8,
     "metadata": {},
     "output_type": "execute_result"
    }
   ],
   "source": [
    "Home(device=device_params, params=HomingMode.MULTI_TURN_UNLIMITED).status\n",
    "# sleep(1)\n",
    "# StopHome(device=device_params).status"
   ]
  },
  {
   "cell_type": "code",
   "execution_count": 2,
   "metadata": {},
   "outputs": [
    {
     "name": "stderr",
     "output_type": "stream",
     "text": [
      "DEBUG:src.stepper.stepper_command:Sending b'\\x01\"k'\n",
      "DEBUG:src.stepper.stepper_command:Received address: b'\\x01', expected: 1\n",
      "DEBUG:src.stepper.stepper_command:Received code: b'\"'\n",
      "DEBUG:src.stepper.stepper_command:Received data: b\"\\x00\\x00\\x00\\x1e\\x00\\x00'\\x10\\x01,\\x03 \\x00d\\x00\"\n",
      "DEBUG:src.stepper.stepper_command:Received checksum: b'k', expected: b'k'\n"
     ]
    },
    {
     "data": {
      "text/plain": [
       "{'homing_mode': <HomingMode.SINGLE_TURN_NEAREST: 0>,\n",
       " 'homing_direction': <HomingDirection.CW: 0>,\n",
       " 'homing_speed': 30,\n",
       " 'homing_timeout': 10000,\n",
       " 'collision_detection_speed': 300,\n",
       " 'collision_detection_current': 800,\n",
       " 'collision_detection_time': 100,\n",
       " 'auto_home': <AutoHoming.DISABLE: 0>,\n",
       " 'current_unit': <CurrentUnit.mA: 1>,\n",
       " 'time_unit': <TimeUnit.ms: 1>}"
      ]
     },
     "execution_count": 2,
     "metadata": {},
     "output_type": "execute_result"
    }
   ],
   "source": [
    "RetrieveHomeParam(device=device_params).data"
   ]
  },
  {
   "cell_type": "code",
   "execution_count": 4,
   "metadata": {},
   "outputs": [
    {
     "name": "stderr",
     "output_type": "stream",
     "text": [
      "DEBUG:src.stepper.stepper_command:Sending b'\\x01\"k'\n",
      "DEBUG:src.stepper.stepper_command:Received address: b'\\x01', expected: 1\n",
      "DEBUG:src.stepper.stepper_command:Received code: b'\"'\n",
      "DEBUG:src.stepper.stepper_command:Received data: b\"\\x00\\x00\\x00\\x1e\\x00\\x00'\\x10\\x01,\\x03 \\x00d\\x00\"\n",
      "DEBUG:src.stepper.stepper_command:Received checksum: b'k', expected: b'k'\n"
     ]
    }
   ],
   "source": [
    "homing_params = RetrieveHomeParam(device=device_params).raw_data\n"
   ]
  },
  {
   "cell_type": "code",
   "execution_count": 5,
   "metadata": {},
   "outputs": [
    {
     "data": {
      "text/plain": [
       "b\"\\x00\\x00\\x00\\x1e\\x00\\x00'\\x10\\x01,\\x03 \\x00d\\x00\""
      ]
     },
     "execution_count": 5,
     "metadata": {},
     "output_type": "execute_result"
    }
   ],
   "source": [
    "homing_params.bytes"
   ]
  },
  {
   "cell_type": "code",
   "execution_count": 8,
   "metadata": {},
   "outputs": [
    {
     "name": "stderr",
     "output_type": "stream",
     "text": [
      "DEBUG:src.stepper.stepper_command:Sending b\"\\x01L\\xae\\x00\\x00\\x00\\x00\\x1e\\x00\\x00'\\x10\\x01,\\x03 \\x00d\\x00k\"\n",
      "DEBUG:src.stepper.stepper_command:Received address: b'\\x01', expected: 1\n",
      "DEBUG:src.stepper.stepper_command:Received code: b'L'\n",
      "DEBUG:src.stepper.stepper_command:Received data: b'\\x02'\n",
      "DEBUG:src.stepper.stepper_command:Received checksum: b'k', expected: b'k'\n"
     ]
    },
    {
     "data": {
      "text/plain": [
       "'SUCCESS'"
      ]
     },
     "execution_count": 8,
     "metadata": {},
     "output_type": "execute_result"
    }
   ],
   "source": [
    "SetHomeParam(device=device_params, params=homing_params).status"
   ]
  },
  {
   "cell_type": "code",
   "execution_count": 49,
   "metadata": {},
   "outputs": [
    {
     "name": "stderr",
     "output_type": "stream",
     "text": [
      "DEBUG:src.stepper.stepper_command:Sending b'\\x01\\xfd\\x00\\x01\\xf4\\xff\\x00\\x00\\x00\\xa0\\x00\\x00k'\n",
      "DEBUG:src.stepper.stepper_command:Received address: b'\\x01', expected: 1\n",
      "DEBUG:src.stepper.stepper_command:Received code: b'\\xfd'\n",
      "DEBUG:src.stepper.stepper_command:Received data: b'\\x02'\n",
      "DEBUG:src.stepper.stepper_command:Received checksum: b'k', expected: b'k'\n"
     ]
    },
    {
     "data": {
      "text/plain": [
       "'SUCCESS'"
      ]
     },
     "execution_count": 49,
     "metadata": {},
     "output_type": "execute_result"
    }
   ],
   "source": [
    "Move(device=device_params, params=position_params).status\n",
    "\n"
   ]
  },
  {
   "cell_type": "code",
   "execution_count": 50,
   "metadata": {},
   "outputs": [
    {
     "name": "stderr",
     "output_type": "stream",
     "text": [
      "DEBUG:src.stepper.stepper_command:Sending b'\\x01\\x9a\\x00\\x00k'\n",
      "DEBUG:src.stepper.stepper_command:Received address: b'\\x01', expected: 1\n",
      "DEBUG:src.stepper.stepper_command:Received code: b'\\x9a'\n",
      "DEBUG:src.stepper.stepper_command:Received data: b'\\x02'\n",
      "DEBUG:src.stepper.stepper_command:Received checksum: b'k', expected: b'k'\n"
     ]
    },
    {
     "data": {
      "text/plain": [
       "'SUCCESS'"
      ]
     },
     "execution_count": 50,
     "metadata": {},
     "output_type": "execute_result"
    }
   ],
   "source": [
    "Home(device=device_params, params=HomingMode.SINGLE_TURN_NEAREST).status"
   ]
  },
  {
   "cell_type": "code",
   "execution_count": 2,
   "metadata": {},
   "outputs": [
    {
     "name": "stderr",
     "output_type": "stream",
     "text": [
      "DEBUG:src.stepper.stepper_command:Sending b'\\x01;k'\n",
      "DEBUG:src.stepper.stepper_command:Received address: b'\\x01', expected: 1\n",
      "DEBUG:src.stepper.stepper_command:Received code: b';'\n",
      "DEBUG:src.stepper.stepper_command:Received data: b'\\x03'\n"
     ]
    },
    {
     "ename": "TypeError",
     "evalue": "unsupported operand type(s) for &: 'bytes' and 'int'",
     "output_type": "error",
     "traceback": [
      "\u001b[1;31m---------------------------------------------------------------------------\u001b[0m",
      "\u001b[1;31mTypeError\u001b[0m                                 Traceback (most recent call last)",
      "Cell \u001b[1;32mIn[2], line 1\u001b[0m\n\u001b[1;32m----> 1\u001b[0m \u001b[43mGetHomeStatus\u001b[49m\u001b[43m(\u001b[49m\u001b[43mdevice\u001b[49m\u001b[38;5;241;43m=\u001b[39;49m\u001b[43mdevice_params\u001b[49m\u001b[43m)\u001b[49m\u001b[38;5;241m.\u001b[39mraw_data\u001b[38;5;241m.\u001b[39m\u001b[38;5;18m__dict__\u001b[39m\n",
      "File \u001b[1;32mc:\\Users\\opsiclear\\Projects\\ZDT_stepper\\src\\stepper\\stepper_command.py:129\u001b[0m, in \u001b[0;36mCommand.__init__\u001b[1;34m(self, device, params, setting)\u001b[0m\n\u001b[0;32m    127\u001b[0m         \u001b[38;5;28mself\u001b[39m\u001b[38;5;241m.\u001b[39m_status \u001b[38;5;241m=\u001b[39m \u001b[38;5;28mself\u001b[39m\u001b[38;5;241m.\u001b[39m_execute()\n\u001b[0;32m    128\u001b[0m \u001b[38;5;28;01melse\u001b[39;00m:\n\u001b[1;32m--> 129\u001b[0m     \u001b[38;5;28mself\u001b[39m\u001b[38;5;241m.\u001b[39m_status \u001b[38;5;241m=\u001b[39m \u001b[38;5;28;43mself\u001b[39;49m\u001b[38;5;241;43m.\u001b[39;49m\u001b[43m_execute\u001b[49m\u001b[43m(\u001b[49m\u001b[43m)\u001b[49m\n",
      "File \u001b[1;32mc:\\Users\\opsiclear\\Projects\\ZDT_stepper\\src\\stepper\\stepper_command.py:261\u001b[0m, in \u001b[0;36mCommand._execute\u001b[1;34m(self)\u001b[0m\n\u001b[0;32m    259\u001b[0m code \u001b[38;5;241m=\u001b[39m \u001b[38;5;28mself\u001b[39m\u001b[38;5;241m.\u001b[39m_read_code()\n\u001b[0;32m    260\u001b[0m data \u001b[38;5;241m=\u001b[39m \u001b[38;5;28mself\u001b[39m\u001b[38;5;241m.\u001b[39m_read_data()\n\u001b[1;32m--> 261\u001b[0m status \u001b[38;5;241m=\u001b[39m \u001b[38;5;28;43mself\u001b[39;49m\u001b[38;5;241;43m.\u001b[39;49m\u001b[43m_process_data\u001b[49m\u001b[43m(\u001b[49m\u001b[43mdata\u001b[49m\u001b[43m)\u001b[49m\n\u001b[0;32m    262\u001b[0m checksum \u001b[38;5;241m=\u001b[39m \u001b[38;5;28mself\u001b[39m\u001b[38;5;241m.\u001b[39m_read_checksum(address \u001b[38;5;241m+\u001b[39m code \u001b[38;5;241m+\u001b[39m data)\n\u001b[0;32m    263\u001b[0m \u001b[38;5;28mself\u001b[39m\u001b[38;5;241m.\u001b[39m_response \u001b[38;5;241m=\u001b[39m address \u001b[38;5;241m+\u001b[39m code \u001b[38;5;241m+\u001b[39m data \u001b[38;5;241m+\u001b[39m checksum\n",
      "File \u001b[1;32mc:\\Users\\opsiclear\\Projects\\ZDT_stepper\\src\\stepper\\stepper_command.py:347\u001b[0m, in \u001b[0;36mReturnData._process_data\u001b[1;34m(self, data)\u001b[0m\n\u001b[0;32m    346\u001b[0m \u001b[38;5;28;01mdef\u001b[39;00m \u001b[38;5;21m_process_data\u001b[39m(\u001b[38;5;28mself\u001b[39m, data: \u001b[38;5;28mbytes\u001b[39m) \u001b[38;5;241m-\u001b[39m\u001b[38;5;241m>\u001b[39m StatusCode:\n\u001b[1;32m--> 347\u001b[0m     \u001b[38;5;28mself\u001b[39m\u001b[38;5;241m.\u001b[39m_raw_data \u001b[38;5;241m=\u001b[39m \u001b[38;5;28;43mself\u001b[39;49m\u001b[38;5;241;43m.\u001b[39;49m\u001b[43m_unpack_data\u001b[49m\u001b[43m(\u001b[49m\u001b[43mdata\u001b[49m\u001b[43m)\u001b[49m\n\u001b[0;32m    348\u001b[0m     \u001b[38;5;28mself\u001b[39m\u001b[38;5;241m.\u001b[39m_data \u001b[38;5;241m=\u001b[39m asdict(\u001b[38;5;28mself\u001b[39m\u001b[38;5;241m.\u001b[39m_raw_data)\n\u001b[0;32m    349\u001b[0m     \u001b[38;5;28;01mreturn\u001b[39;00m StatusCode\u001b[38;5;241m.\u001b[39mSUCCESS\n",
      "File \u001b[1;32mc:\\Users\\opsiclear\\Projects\\ZDT_stepper\\src\\stepper\\stepper_command.py:344\u001b[0m, in \u001b[0;36mReturnData._unpack_data\u001b[1;34m(self, data)\u001b[0m\n\u001b[0;32m    342\u001b[0m \u001b[38;5;28;01mdef\u001b[39;00m \u001b[38;5;21m_unpack_data\u001b[39m(\u001b[38;5;28mself\u001b[39m, data: \u001b[38;5;28mbytes\u001b[39m) \u001b[38;5;241m-\u001b[39m\u001b[38;5;241m>\u001b[39m ReturnType:\n\u001b[0;32m    343\u001b[0m \u001b[38;5;250m    \u001b[39m\u001b[38;5;124;03m\"\"\"Unpack data from response.\"\"\"\u001b[39;00m\n\u001b[1;32m--> 344\u001b[0m     \u001b[38;5;28;01mreturn\u001b[39;00m \u001b[38;5;28;43mself\u001b[39;49m\u001b[38;5;241;43m.\u001b[39;49m\u001b[43mReturnType\u001b[49m\u001b[43m(\u001b[49m\u001b[43mdata\u001b[49m\u001b[43m)\u001b[49m\n",
      "File \u001b[1;32m<string>:4\u001b[0m, in \u001b[0;36m__init__\u001b[1;34m(self, status_code)\u001b[0m\n",
      "File \u001b[1;32mc:\\Users\\opsiclear\\Projects\\ZDT_stepper\\src\\stepper\\stepper_parameters.py:228\u001b[0m, in \u001b[0;36mHomingStatus.__post_init__\u001b[1;34m(self)\u001b[0m\n\u001b[0;32m    226\u001b[0m \u001b[38;5;28;01mdef\u001b[39;00m \u001b[38;5;21m__post_init__\u001b[39m(\u001b[38;5;28mself\u001b[39m) \u001b[38;5;241m-\u001b[39m\u001b[38;5;241m>\u001b[39m \u001b[38;5;28;01mNone\u001b[39;00m:\n\u001b[0;32m    227\u001b[0m \u001b[38;5;250m    \u001b[39m\u001b[38;5;124;03m\"\"\"Post initialization to set flags.\"\"\"\u001b[39;00m\n\u001b[1;32m--> 228\u001b[0m     \u001b[38;5;28mself\u001b[39m\u001b[38;5;241m.\u001b[39mencoder_ready \u001b[38;5;241m=\u001b[39m \u001b[38;5;28mbool\u001b[39m(\u001b[38;5;28;43mself\u001b[39;49m\u001b[38;5;241;43m.\u001b[39;49m\u001b[43mstatus_code\u001b[49m\u001b[43m \u001b[49m\u001b[38;5;241;43m&\u001b[39;49m\u001b[43m \u001b[49m\u001b[38;5;241;43m0x01\u001b[39;49m)\n\u001b[0;32m    229\u001b[0m     \u001b[38;5;28mself\u001b[39m\u001b[38;5;241m.\u001b[39mencoder_calibrated \u001b[38;5;241m=\u001b[39m \u001b[38;5;28mbool\u001b[39m(\u001b[38;5;28mself\u001b[39m\u001b[38;5;241m.\u001b[39mstatus_code \u001b[38;5;241m&\u001b[39m \u001b[38;5;241m0x02\u001b[39m)\n\u001b[0;32m    230\u001b[0m     \u001b[38;5;28mself\u001b[39m\u001b[38;5;241m.\u001b[39mis_homing \u001b[38;5;241m=\u001b[39m \u001b[38;5;28mbool\u001b[39m(\u001b[38;5;28mself\u001b[39m\u001b[38;5;241m.\u001b[39mstatus_code \u001b[38;5;241m&\u001b[39m \u001b[38;5;241m0x04\u001b[39m)\n",
      "\u001b[1;31mTypeError\u001b[0m: unsupported operand type(s) for &: 'bytes' and 'int'"
     ]
    }
   ],
   "source": [
    "GetHomeStatus(device=device_params).raw_data.__dict__"
   ]
  },
  {
   "cell_type": "code",
   "execution_count": 2,
   "metadata": {},
   "outputs": [
    {
     "name": "stderr",
     "output_type": "stream",
     "text": [
      "DEBUG:src.stepper.stepper_command:Sending b'\\x01\\x06Ek'\n",
      "DEBUG:src.stepper.stepper_command:Received address: b'\\x01', expected: 1\n",
      "DEBUG:src.stepper.stepper_command:Received code: b'\\x06'\n",
      "DEBUG:src.stepper.stepper_command:Received data: b'\\x02'\n",
      "DEBUG:src.stepper.stepper_command:Received checksum: b'k', expected: b'k'\n"
     ]
    },
    {
     "data": {
      "text/plain": [
       "'SUCCESS'"
      ]
     },
     "execution_count": 2,
     "metadata": {},
     "output_type": "execute_result"
    }
   ],
   "source": [
    "from src.stepper.stepper_sys import CalibrateEncoder\n",
    "\n",
    "# Unlock system command\n",
    "\n",
    "calibrate_encoder = CalibrateEncoder\n",
    "calibrate_encoder.unlock()\n",
    "calibrate_encoder(device=device_params).status\n"
   ]
  },
  {
   "cell_type": "code",
   "execution_count": null,
   "metadata": {},
   "outputs": [],
   "source": [
    "from src.stepper.stepper_get import GetEncoderPosition\n",
    "\n",
    "\n"
   ]
  },
  {
   "cell_type": "code",
   "execution_count": null,
   "metadata": {},
   "outputs": [],
   "source": []
  },
  {
   "cell_type": "code",
   "execution_count": null,
   "metadata": {},
   "outputs": [],
   "source": []
  }
 ],
 "metadata": {
  "kernelspec": {
   "display_name": "flir",
   "language": "python",
   "name": "python3"
  },
  "language_info": {
   "codemirror_mode": {
    "name": "ipython",
    "version": 3
   },
   "file_extension": ".py",
   "mimetype": "text/x-python",
   "name": "python",
   "nbconvert_exporter": "python",
   "pygments_lexer": "ipython3",
   "version": "3.10.15"
  }
 },
 "nbformat": 4,
 "nbformat_minor": 2
}
