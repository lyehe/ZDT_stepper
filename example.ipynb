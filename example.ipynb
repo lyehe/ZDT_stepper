{
 "cells": [
  {
   "cell_type": "code",
   "execution_count": 1,
   "metadata": {},
   "outputs": [
    {
     "name": "stdout",
     "output_type": "stream",
     "text": [
      "-----------------------------------------------------------------------------------------------------------------------------\n",
      "Port       Description                    VID   PID   Manufacturer              Serial Number             Location                 \n",
      "-----------------------------------------------------------------------------------------------------------------------------\n",
      "COM1       Communications Port (COM1)     N/A   N/A   (Standard port types)     N/A                       N/A                      \n",
      "COM3       USB-SERIAL CH340 (COM3)        6790  29987 wch.cn                    N/A                       1-8                      \n",
      "-----------------------------------------------------------------------------------------------------------------------------\n"
     ]
    },
    {
     "name": "stderr",
     "output_type": "stream",
     "text": [
      "                                                           \r"
     ]
    },
    {
     "data": {
      "text/plain": [
       "{'COM1': 0, 'COM3': 115200}"
      ]
     },
     "execution_count": 1,
     "metadata": {},
     "output_type": "execute_result"
    }
   ],
   "source": [
    "from src.stepper.serial_utilities.serial_utilities import (\n",
    "\n",
    "    test_connection,\n",
    "    print_ports_info,\n",
    "    scan_ports,\n",
    "    TestCase,\n",
    ")\n",
    "\n",
    "print_ports_info()\n",
    "test_connection(\"COM3\", 115200, test_case=TestCase.default())\n",
    "scan_ports(test_case=TestCase.default())\n"
   ]
  },
  {
   "cell_type": "code",
   "execution_count": 2,
   "metadata": {},
   "outputs": [],
   "source": [
    "from serial import Serial\n",
    "serial_connection = Serial(\"COM3\", 115200, timeout=0.1)\n"
   ]
  },
  {
   "cell_type": "code",
   "execution_count": 6,
   "metadata": {},
   "outputs": [
    {
     "data": {
      "text/plain": [
       "serial.serialwin32.Serial"
      ]
     },
     "execution_count": 6,
     "metadata": {},
     "output_type": "execute_result"
    }
   ],
   "source": [
    "type(serial_connection)\n"
   ]
  },
  {
   "cell_type": "code",
   "execution_count": 9,
   "metadata": {},
   "outputs": [],
   "source": [
    "serial_connection.close()\n"
   ]
  },
  {
   "cell_type": "code",
   "execution_count": 16,
   "metadata": {},
   "outputs": [
    {
     "data": {
      "text/plain": [
       "False"
      ]
     },
     "execution_count": 16,
     "metadata": {},
     "output_type": "execute_result"
    }
   ],
   "source": [
    "serial_connection.is_open"
   ]
  },
  {
   "cell_type": "code",
   "execution_count": 1,
   "metadata": {},
   "outputs": [],
   "source": [
    "from src.stepper.device import Device\n",
    "serial_connection = Device.SerialConnection(\"COM3\", 115200, timeout=0.1)\n",
    "serial_connection.close()\n",
    "device_params = Device.DeviceParams(serial_connection=serial_connection, address=1)\n",
    "device = Device(device_params)"
   ]
  },
  {
   "cell_type": "code",
   "execution_count": 2,
   "metadata": {},
   "outputs": [
    {
     "data": {
      "text/plain": [
       "PositionErrorParams(error=0, unit=<AngleUnit.deg: 182.04444444444445>, _value=0.0)"
      ]
     },
     "execution_count": 2,
     "metadata": {},
     "output_type": "execute_result"
    }
   ],
   "source": [
    "device.position_error"
   ]
  },
  {
   "cell_type": "code",
   "execution_count": 4,
   "metadata": {},
   "outputs": [],
   "source": [
    "from src.stepper.stepper_core.parameters import (\n",
    "    JogParams,\n",
    "    PositionParams,\n",
    "    StartSpeedParams,\n",
    "    LoopMode,\n",
    "    SpeedReduction,\n",
    ")\n",
    "(\n",
    "    jog_params=JogParams(),\n",
    "    position_params=PositionParams(),\n",
    "    start_speed_params=StartSpeedParams(),\n",
    "    loop_mode=LoopMode.CLOSED,\n",
    "    speed_reduction=SpeedReduction.DISABLE,\n",
    ")\n"
   ]
  },
  {
   "cell_type": "code",
   "execution_count": 1,
   "metadata": {},
   "outputs": [
    {
     "name": "stdout",
     "output_type": "stream",
     "text": [
      "1\n",
      "3\n"
     ]
    }
   ],
   "source": [
    "class a:\n",
    "    b = 1\n",
    "    c = 2\n",
    "    \n",
    "    @classmethod\n",
    "    def changeb(cls):\n",
    "        cls.b = 3\n",
    "    \n",
    "print(a.b)\n",
    "a.changeb()\n",
    "print(a.b)"
   ]
  },
  {
   "cell_type": "code",
   "execution_count": 5,
   "metadata": {},
   "outputs": [],
   "source": [
    "device = Device(device_params=device_params, input_params=input_params)\n"
   ]
  },
  {
   "cell_type": "code",
   "execution_count": 8,
   "metadata": {},
   "outputs": [
    {
     "data": {
      "text/plain": [
       "0.0494384765625"
      ]
     },
     "execution_count": 8,
     "metadata": {},
     "output_type": "execute_result"
    }
   ],
   "source": [
    "device.real_time_position.value\n"
   ]
  },
  {
   "cell_type": "code",
   "execution_count": 1,
   "metadata": {},
   "outputs": [],
   "source": [
    "import time\n",
    "from serial import Serial\n",
    "\n",
    "from src.stepper.commands.get import (\n",
    "    GetBusVoltage,\n",
    "    GetConfig,\n",
    "    GetEncoderValue,\n",
    "    GetPositionError,\n",
    "    GetMotorRH,\n",
    "    GetPID,\n",
    "    GetPhaseCurrent,\n",
    "    GetRealTimePosition,\n",
    "    GetRealTimeSpeed,\n",
    "    GetStatus,\n",
    "    GetSysStatus,\n",
    "    GetTargetPosition,\n",
    "    GetVersion,\n",
    ")\n",
    "from src.stepper.commands.home import (\n",
    "    GetHomeStatus,\n",
    "    Home,\n",
    "    RetrieveHomeParam,\n",
    "    SetHome,\n",
    "    SetHomeParam,\n",
    "    StopHome,\n",
    ")\n",
    "from src.stepper.commands.move import Disable, EStop, Enable, Jog, Move, SyncMove\n",
    "from src.stepper.commands.set import (\n",
    "    Kpid,\n",
    "    LoopMode,\n",
    "    Microstep,\n",
    "    OpenLoopCurrent,\n",
    "    SetConfig,\n",
    "    SetID,\n",
    "    SetLoopMode,\n",
    "    SetMicrostep,\n",
    "    SetOpenLoopCurrent,\n",
    "    SetPID,\n",
    "    SetReduction,\n",
    "    SetStartSpeed,\n",
    "    SpeedReduction,\n",
    "    StartSpeedParams,\n",
    ")\n",
    "from src.stepper.commands.system import CalibrateEncoder, ZeroAllPositions\n",
    "from src.stepper.stepper_core.configs import (\n",
    "    AbsoluteFlag,\n",
    "    Acceleration,\n",
    "    Address,\n",
    "    Direction,\n",
    "    HomingMode,\n",
    "    PulseCount,\n",
    "    Speed,\n",
    "    SyncFlag,\n",
    ")\n",
    "from src.stepper.stepper_core.parameters import DeviceParams, JogParams, PositionParams\n",
    "\n",
    "# from time import sleep\n",
    "# import logging\n",
    "# logging.basicConfig(level=logging.DEBUG)\n",
    "\n",
    "serial_connection = Serial(\"COM3\", 115200, timeout=0.1)\n",
    "\n",
    "device_params = DeviceParams(\n",
    "    serial_connection=serial_connection,\n",
    "    address=Address(0x01),\n",
    ")\n",
    "\n",
    "position_params = PositionParams(\n",
    "    direction=Direction.CW,\n",
    "    speed=Speed(500),\n",
    "    acceleration=Acceleration(127),\n",
    "    pulse_count=PulseCount(160),\n",
    "    absolute=AbsoluteFlag.RELATIVE,\n",
    ")\n",
    "\n",
    "jog_params = JogParams(\n",
    "    direction=Direction.CW,\n",
    "    speed=Speed(100),\n",
    "    acceleration=Acceleration(255),\n",
    ")"
   ]
  },
  {
   "cell_type": "code",
   "execution_count": 2,
   "metadata": {},
   "outputs": [
    {
     "data": {
      "text/plain": [
       "'SUCCESS'"
      ]
     },
     "execution_count": 2,
     "metadata": {},
     "output_type": "execute_result"
    }
   ],
   "source": [
    "SetHome(device=device_params).status\n",
    "\n",
    "zero_all_positions = ZeroAllPositions\n",
    "zero_all_positions.unlock()\n",
    "zero_all_positions(device=device_params).status\n"
   ]
  },
  {
   "cell_type": "code",
   "execution_count": 2,
   "metadata": {},
   "outputs": [],
   "source": [
    "\"\"\"Stepper motor class.\"\"\"\n",
    "\n",
    "from dataclasses import dataclass\n",
    "from logging import DEBUG, getLogger\n",
    "from time import sleep\n",
    "\n",
    "from serial import Serial\n",
    "\n",
    "from src.stepper.commands.move import Disable, Enable, EStop, Jog, Move\n",
    "from src.stepper.stepper_core.configs import (\n",
    "    AbsoluteFlag,\n",
    "    Acceleration,\n",
    "    Address,\n",
    "    AngleUnit,\n",
    "    AutoHoming,\n",
    "    BaudRate,\n",
    "    CanRate,\n",
    "    ChecksumMode,\n",
    "    ClosedLoopCurrent,\n",
    "    CollisionDetectionCurrent,\n",
    "    CollisionDetectionSpeed,\n",
    "    CollisionDetectionTime,\n",
    "    CommunicationMode,\n",
    "    ControlMode,\n",
    "    CurrentUnit,\n",
    "    DefaultDir,\n",
    "    Direction,\n",
    "    EnableFlag,\n",
    "    EnableLevel,\n",
    "    EnablePin,\n",
    "    HomingDirection,\n",
    "    HomingMode,\n",
    "    HomingSpeed,\n",
    "    HomingTimeout,\n",
    "    InductanceUnit,\n",
    "    Kpid,\n",
    "    LoopMode,\n",
    "    MaxVoltage,\n",
    "    Microstep,\n",
    "    MicrostepInterp,\n",
    "    MotorType,\n",
    "    OnTargetWindow,\n",
    "    OpenLoopCurrent,\n",
    "    PulseCount,\n",
    "    ResistanceUnit,\n",
    "    ResponseMode,\n",
    "    ScreenOff,\n",
    "    Speed,\n",
    "    SpeedReduction,\n",
    "    SpeedUnit,\n",
    "    StallCurrent,\n",
    "    StallProtect,\n",
    "    StallSpeed,\n",
    "    StallTime,\n",
    "    StoreFlag,\n",
    "    SyncFlag,\n",
    "    TimeUnit,\n",
    "    VoltageUnit,\n",
    ")\n",
    "from src.stepper.stepper_core.parameters import (\n",
    "    ConfigParams,\n",
    "    DeviceParams,\n",
    "    HomingParams,\n",
    "    JogParams,\n",
    "    PIDParams,\n",
    "    PositionParams,\n",
    "    StartSpeedParams,\n",
    ")\n",
    "\n",
    "logger = getLogger(__name__)\n",
    "logger.setLevel(DEBUG)\n",
    "\n",
    "\n",
    "@dataclass\n",
    "class DeviceConfiguration:\n",
    "    \"\"\"Parameters and default settings for stepper motor configuration and movement.\n",
    "\n",
    "    :param speed: Movement speed in RPM (0-3000)\n",
    "    :param acceleration: Movement acceleration (0-255)\n",
    "    :param pulse_count: Number of pulses to move (0-4294967295)\n",
    "    :param direction: Movement direction (CW/CCW)\n",
    "    :param absolute: Absolute or relative movement (RELATIVE/ABSOLUTE)\n",
    "    :param sync: Synchronous movement flag (NO_SYNC/SYNC)\n",
    "    :param microstep: Microstep resolution (0-255)\n",
    "    :param open_loop_current: Open loop current in mA (0-2000)\n",
    "    :param closed_loop_current: Closed loop current in mA (0-4000)\n",
    "    :param loop_mode: Control loop mode (OPEN/CLOSED)\n",
    "    :param control_mode: Motor control mode (PUL_OFF/PUL_OPEN/PUL_FOC/ESI_RCO)\n",
    "    :param motor_type: Motor type (D18/D09)\n",
    "    :param communication_mode: Communication mode (RXTX_OFF/ESI_AL0/UART/CAN)\n",
    "    :param enable_level: Enable level (LOW/HIGH/HOLD)\n",
    "    :param microstep_interp: Microstep interpolation (ENABLE/DISABLE)\n",
    "    :param screen_off: Screen off flag (ENABLE/DISABLE)\n",
    "    :param max_voltage: Maximum voltage in mV (0-5000)\n",
    "    :param baud_rate: Serial communication baud rate\n",
    "    :param can_rate: CAN bus rate\n",
    "    :param checksum_mode: Checksum mode (FIXED/XOR/CRC8)\n",
    "    :param response_mode: Response mode (NONE/RECEIVE/REACHED/BOTH/OTHER)\n",
    "    :param stall_protect: Stall protection flag (ENABLE/DISABLE)\n",
    "    :param stall_speed: Stall speed in RPM (0-500)\n",
    "    :param stall_current: Stall current in mA (0-3000)\n",
    "    :param stall_time: Stall time in ms (0-5000)\n",
    "    :param on_target_window: Position window in 0.1 degrees (0-100)\n",
    "    :param enable_pin: Enable pin configuration (ENABLE/DISABLE)\n",
    "    :param default_dir: Default direction (CW/CCW)\n",
    "    :param speed_reduction: Speed reduction configuration (ENABLE/DISABLE)\n",
    "    :param store_flag: Store configuration flag (TEMPORARY/PERMANENT)\n",
    "    :param enable_flag: Enable/Disable flag\n",
    "    :param address: Device address (0-255)\n",
    "    :param kpid: PID control parameters\n",
    "    :param homing_mode: Homing mode configuration\n",
    "    :param homing_direction: Homing direction\n",
    "    :param homing_speed: Homing speed in RPM\n",
    "    :param homing_timeout: Homing timeout in ms\n",
    "    :param collision_detection_speed: Collision detection speed in RPM\n",
    "    :param collision_detection_current: Collision detection current in mA\n",
    "    :param collision_detection_time: Collision detection time in ms\n",
    "    :param speed_unit: Speed unit configuration\n",
    "    :param current_unit: Current unit configuration\n",
    "    :param voltage_unit: Voltage unit configuration\n",
    "    :param inductance_unit: Inductance unit configuration\n",
    "    :param resistance_unit: Resistance unit configuration\n",
    "    :param angle_unit: Angle unit configuration\n",
    "    :param time_unit: Time unit configuration\n",
    "    \"\"\"\n",
    "\n",
    "    com_port: str\n",
    "    baud_rate: BaudRate | int\n",
    "    address: Address | int\n",
    "\n",
    "    delay: float | None = None\n",
    "    # Units configuration\n",
    "    speed_unit: SpeedUnit = SpeedUnit.RPM\n",
    "    current_unit: CurrentUnit = CurrentUnit.mA\n",
    "    voltage_unit: VoltageUnit = VoltageUnit.mV\n",
    "    inductance_unit: InductanceUnit = InductanceUnit.uH\n",
    "    resistance_unit: ResistanceUnit = ResistanceUnit.mOhm\n",
    "    angle_unit: AngleUnit = AngleUnit.deg\n",
    "    time_unit: TimeUnit = TimeUnit.ms\n",
    "\n",
    "    # Movement parameters\n",
    "    speed: Speed = Speed(500)\n",
    "    acceleration: Acceleration = Acceleration(250)\n",
    "    pulse_count: PulseCount = PulseCount(80)\n",
    "    direction: Direction = Direction.CW\n",
    "    absolute: AbsoluteFlag = AbsoluteFlag.RELATIVE\n",
    "    sync: SyncFlag = SyncFlag.NO_SYNC\n",
    "\n",
    "    # Current and resolution\n",
    "    microstep: Microstep = Microstep(16)\n",
    "    open_loop_current: OpenLoopCurrent = OpenLoopCurrent(800)\n",
    "    closed_loop_current: ClosedLoopCurrent = ClosedLoopCurrent(2000)\n",
    "\n",
    "    # Control modes\n",
    "    loop_mode: LoopMode = LoopMode.CLOSED\n",
    "    control_mode: ControlMode = ControlMode.PUL_FOC\n",
    "    motor_type: MotorType = MotorType.D18\n",
    "    communication_mode: CommunicationMode = CommunicationMode.UART\n",
    "    enable_level: EnableLevel = EnableLevel.HOLD\n",
    "\n",
    "    # Features\n",
    "    microstep_interp: MicrostepInterp = MicrostepInterp.ENABLE\n",
    "    screen_off: ScreenOff = ScreenOff.DISABLE\n",
    "    max_voltage: MaxVoltage = MaxVoltage(4000)\n",
    "\n",
    "    # Communication\n",
    "    can_rate: CanRate = CanRate.CAN_500K\n",
    "    checksum_mode: ChecksumMode = ChecksumMode.FIXED\n",
    "    response_mode: ResponseMode = ResponseMode.RECEIVE\n",
    "\n",
    "    # Protection\n",
    "    stall_protect: StallProtect = StallProtect.ENABLE\n",
    "    stall_speed: StallSpeed = StallSpeed(28)\n",
    "    stall_current: StallCurrent = StallCurrent(2400)\n",
    "    stall_time: StallTime = StallTime(1000)\n",
    "\n",
    "    # Positioning\n",
    "    on_target_window: OnTargetWindow = OnTargetWindow(1)\n",
    "    enable_pin: EnablePin = EnablePin.ENABLE\n",
    "    default_dir: DefaultDir = DefaultDir.CW\n",
    "    speed_reduction: SpeedReduction = SpeedReduction.DISABLE\n",
    "\n",
    "    # System flags\n",
    "    store_flag: StoreFlag = StoreFlag.TEMPORARY\n",
    "    enable_flag: EnableFlag = EnableFlag.ENABLE\n",
    "\n",
    "    # PID Control\n",
    "    kp: Kpid = Kpid(Kpid.default_kp)\n",
    "    ki: Kpid = Kpid(Kpid.default_ki)\n",
    "    kd: Kpid = Kpid(Kpid.default_kd)\n",
    "\n",
    "    # Homing parameters\n",
    "    homing_mode: HomingMode = HomingMode.SINGLE_TURN_NEAREST\n",
    "    homing_direction: HomingDirection = HomingDirection.CW\n",
    "    homing_speed: HomingSpeed = HomingSpeed(30)\n",
    "    homing_timeout: HomingTimeout = HomingTimeout(10000)\n",
    "    collision_detection_speed: CollisionDetectionSpeed = CollisionDetectionSpeed(300)\n",
    "    collision_detection_current: CollisionDetectionCurrent = CollisionDetectionCurrent(800)\n",
    "    collision_detection_time: CollisionDetectionTime = CollisionDetectionTime(60)\n",
    "    auto_home: AutoHoming = AutoHoming.ENABLE\n",
    "\n",
    "    def __post_init__(self):\n",
    "        \"\"\"Post initialization.\"\"\"\n",
    "        self.address = Address(self.address)\n",
    "        self.baud_rate = BaudRate[f\"BAUD_{self.baud_rate}\"]\n",
    "\n",
    "    @property\n",
    "    def serial_connection(self) -> Serial:\n",
    "        \"\"\"Serial connection.\"\"\"\n",
    "        return Serial(\n",
    "            port=self.com_port,\n",
    "            baudrate=int(self.baud_rate),\n",
    "        )\n",
    "\n",
    "    @property\n",
    "    def jog_params(self) -> JogParams:\n",
    "        \"\"\"Jog parameters.\"\"\"\n",
    "        return JogParams(\n",
    "            direction=self.direction,\n",
    "            speed=self.speed,\n",
    "            acceleration=self.acceleration,\n",
    "        )\n",
    "\n",
    "    @property\n",
    "    def position_params(self) -> PositionParams:\n",
    "        \"\"\"Position parameters.\"\"\"\n",
    "        return PositionParams(\n",
    "            direction=self.direction,\n",
    "            speed=self.speed,\n",
    "            acceleration=self.acceleration,\n",
    "            pulse_count=self.pulse_count,\n",
    "            absolute=self.absolute,\n",
    "        )\n",
    "\n",
    "    @property\n",
    "    def homing_params(self) -> HomingParams:\n",
    "        \"\"\"Homing parameters.\"\"\"\n",
    "        return HomingParams(\n",
    "            homing_mode=self.homing_mode,\n",
    "            homing_direction=self.homing_direction,\n",
    "            homing_speed=self.homing_speed,\n",
    "            homing_timeout=self.homing_timeout,\n",
    "            collision_detection_speed=self.collision_detection_speed,\n",
    "            collision_detection_current=self.collision_detection_current,\n",
    "            collision_detection_time=self.collision_detection_time,\n",
    "            auto_home=self.auto_home,\n",
    "            current_unit=self.current_unit,\n",
    "            speed_unit=self.speed_unit,\n",
    "            time_unit=self.time_unit,\n",
    "        )\n",
    "\n",
    "    @property\n",
    "    def pid_params(self) -> PIDParams:\n",
    "        \"\"\"PID parameters.\"\"\"\n",
    "        return PIDParams(\n",
    "            kp=self.kp,\n",
    "            ki=self.ki,\n",
    "            kd=self.kd,\n",
    "        )\n",
    "\n",
    "    @property\n",
    "    def start_speed_params(self) -> StartSpeedParams:\n",
    "        \"\"\"Start speed parameters.\"\"\"\n",
    "        return StartSpeedParams(\n",
    "            speed=self.speed,\n",
    "            acceleration=self.acceleration,\n",
    "            pulse_count=self.pulse_count,\n",
    "            absolute=self.absolute,\n",
    "        )\n",
    "\n",
    "    @property\n",
    "    def config_params(self) -> ConfigParams:\n",
    "        \"\"\"Configuration parameters.\"\"\"\n",
    "        return ConfigParams(\n",
    "            stepper_type=self.motor_type,\n",
    "            control_mode=self.control_mode,\n",
    "            communication_mode=self.communication_mode,\n",
    "            enable_level=self.enable_level,\n",
    "            default_direction=self.default_dir,\n",
    "            microsteps=self.microstep,\n",
    "            microstep_interp=self.microstep_interp,\n",
    "            screen_off=self.screen_off,\n",
    "            open_loop_current=self.open_loop_current,\n",
    "            max_closed_loop_current=self.closed_loop_current,\n",
    "            max_voltage=self.max_voltage,\n",
    "            baud_rate=self.baud_rate,\n",
    "            can_rate=self.can_rate,\n",
    "            address=self.address,\n",
    "            checksum_mode=self.checksum_mode,\n",
    "            response_mode=self.response_mode,\n",
    "            stall_protect=self.stall_protect,\n",
    "            stall_speed=self.stall_speed,\n",
    "            stall_current=self.stall_current,\n",
    "            stall_time=self.stall_time,\n",
    "            on_target_window=self.on_target_window,\n",
    "            current_unit=self.current_unit,\n",
    "            voltage_unit=self.voltage_unit,\n",
    "            angle_unit=self.angle_unit,\n",
    "            time_unit=self.time_unit,\n",
    "            speed_unit=self.speed_unit,\n",
    "        )\n",
    "\n",
    "\n",
    "class Device:\n",
    "    \"\"\"Stepper motor class.\"\"\"\n",
    "\n",
    "    def __init__(self, config: DeviceConfiguration):\n",
    "        \"\"\"Initialize stepper motor.\"\"\"\n",
    "        self.config = config\n",
    "        self.serial_connection = config.serial_connection\n",
    "        self.device_params = DeviceParams(\n",
    "            serial_connection=self.serial_connection,\n",
    "            address=self.config.address,\n",
    "            checksum_mode=self.config.checksum_mode,\n",
    "            delay=self.config.delay,\n",
    "        )\n",
    "\n",
    "    def enable(self):\n",
    "        \"\"\"Enable motor.\"\"\"\n",
    "        logger.debug(\"enabling motor\")\n",
    "        Enable(device=self.device_params)\n",
    "\n",
    "    def disable(self):\n",
    "        \"\"\"Disable motor.\"\"\"\n",
    "        logger.debug(\"disabling motor\")\n",
    "        Disable(device=self.device_params)\n",
    "\n",
    "    def jog(self):\n",
    "        \"\"\"Jog at the configured speed and acceleration.\"\"\"\n",
    "        logger.debug(\"jogging at configured speed and acceleration\")\n",
    "        Jog(device=self.device_params, params=self.config.jog_params)\n",
    "\n",
    "    def jog_cw(self):\n",
    "        \"\"\"Jog clockwise.\"\"\"\n",
    "        print(self.serial_connection.is_open)\n",
    "        params = self.config.jog_params\n",
    "        params.direction = Direction.CW\n",
    "        command = Jog(device=self.device_params, params=params)\n",
    "        print(command.data)\n",
    "\n",
    "    def jog_ccw(self):\n",
    "        \"\"\"Jog counterclockwise.\"\"\"\n",
    "        logger.debug(\"jogging counterclockwise\")\n",
    "        params = self.config.jog_params\n",
    "        params.direction = Direction.CCW\n",
    "        Jog(device=self.device_params, params=params)\n",
    "\n",
    "    def move_cw(self):\n",
    "        \"\"\"Move unit distance clockwise.\"\"\"\n",
    "        logger.debug(\"moving unit distance clockwise\")\n",
    "        params = self.config.position_params\n",
    "        params.direction = Direction.CW\n",
    "        Move(device=self.device_params, params=params)\n",
    "\n",
    "    def move_ccw(self):\n",
    "        \"\"\"Move unit distance counterclockwise.\"\"\"\n",
    "        logger.debug(\"moving unit distance counterclockwise\")\n",
    "        params = self.config.position_params\n",
    "        params.direction = Direction.CCW\n",
    "        Move(device=self.device_params, params=params)\n",
    "\n",
    "    def move_to(self, position: int):\n",
    "        \"\"\"Move to position.\"\"\"\n",
    "        logger.debug(f\"moving to position {position}\")\n",
    "        params = self.config.position_params\n",
    "        if position > 0:\n",
    "            params.direction = Direction.CW\n",
    "        else:\n",
    "            params.direction = Direction.CCW\n",
    "        params.pulse_count = PulseCount(abs(position))\n",
    "        Move(device=self.device_params, params=params)\n",
    "\n",
    "    def stop(self):\n",
    "        \"\"\"Emergency stop.\"\"\"\n",
    "        logger.debug(\"emergency stop\")\n",
    "        EStop(device=self.device_params)\n",
    "\n",
    "    def pause(self, time: float = 1):\n",
    "        \"\"\"Pause movement.\"\"\"\n",
    "        logger.debug(f\"pausing for {time} seconds\")\n",
    "        sleep(time)\n",
    "\n",
    "\n",
    "\n",
    "device_params = DeviceParams(\n",
    "    serial_connection=serial_connection,\n",
    "    address=Address(0x01),\n",
    ")\n",
    "\n",
    "position_params = PositionParams(\n",
    "    direction=Direction.CW,\n",
    "    speed=Speed(250),\n",
    "    acceleration=Acceleration(200),\n",
    "    pulse_count=PulseCount(160),\n",
    "    absolute=AbsoluteFlag.RELATIVE,\n",
    "    )\n",
    "    cmd = Enable(device=device_params).status\n",
    "    cmd = Move(device=device_params, params=position_params).status\n",
    "    # time.sleep(0.1)\n",
    "    # print(GetPositionError(device=device_params).raw_data.data_dict)\n",
    "    # print(GetRealTimePosition(device=device_params).raw_data.data_dict)\n",
    "    # print(GetTargetPosition(device=device_params).raw_data.data_dict)\n"
   ]
  },
  {
   "cell_type": "code",
   "execution_count": 28,
   "metadata": {},
   "outputs": [],
   "source": [
    "device.move()\n"
   ]
  },
  {
   "cell_type": "code",
   "execution_count": null,
   "metadata": {},
   "outputs": [],
   "source": []
  },
  {
   "cell_type": "code",
   "execution_count": null,
   "metadata": {},
   "outputs": [],
   "source": [
    "de"
   ]
  },
  {
   "cell_type": "code",
   "execution_count": 7,
   "metadata": {},
   "outputs": [
    {
     "name": "stdout",
     "output_type": "stream",
     "text": [
      "{'position_error (deg)': 0.560302734375}\n",
      "{'real_time_position (deg)': 288.1658935546875}\n",
      "{'target_position (deg)': 292.9449462890625}\n"
     ]
    }
   ],
   "source": [
    "position_params = PositionParams(\n",
    "    direction=Direction.CW,\n",
    "    speed=Speed(250),\n",
    "    acceleration=Acceleration(200),\n",
    "    pulse_count=PulseCount(160),\n",
    "    absolute=AbsoluteFlag.RELATIVE,\n",
    ")\n",
    "\n",
    "Enable(device=device_params).status\n",
    "Move(device=device_params, params=position_params).status\n",
    "time.sleep(0.1)\n",
    "print(GetPositionError(device=device_params).raw_data.data_dict)\n",
    "print(GetRealTimePosition(device=device_params).raw_data.data_dict)\n",
    "print(GetTargetPosition(device=device_params).raw_data.data_dict)\n"
   ]
  },
  {
   "cell_type": "code",
   "execution_count": 6,
   "metadata": {},
   "outputs": [
    {
     "data": {
      "text/plain": [
       "'CONDITIONAL_ERROR'"
      ]
     },
     "execution_count": 6,
     "metadata": {},
     "output_type": "execute_result"
    }
   ],
   "source": [
    "Disable(device=device_params).status\n",
    "Move(device=device_params, params=position_params).status\n",
    "# This should show a CONDITIONAL_ERROR  "
   ]
  },
  {
   "cell_type": "code",
   "execution_count": 9,
   "metadata": {},
   "outputs": [
    {
     "data": {
      "text/plain": [
       "'SUCCESS'"
      ]
     },
     "execution_count": 9,
     "metadata": {},
     "output_type": "execute_result"
    }
   ],
   "source": [
    "Jog(device=device_params, params=jog_params).status"
   ]
  },
  {
   "cell_type": "code",
   "execution_count": 10,
   "metadata": {},
   "outputs": [
    {
     "data": {
      "text/plain": [
       "'SUCCESS'"
      ]
     },
     "execution_count": 10,
     "metadata": {},
     "output_type": "execute_result"
    }
   ],
   "source": [
    "EStop(device=device_params).status"
   ]
  },
  {
   "cell_type": "code",
   "execution_count": 12,
   "metadata": {},
   "outputs": [
    {
     "data": {
      "text/plain": [
       "'SUCCESS'"
      ]
     },
     "execution_count": 12,
     "metadata": {},
     "output_type": "execute_result"
    }
   ],
   "source": [
    "Move(device=device_params, params=position_params, setting=SyncFlag.SYNC).is_success\n",
    "SyncMove(device=device_params).status"
   ]
  },
  {
   "cell_type": "code",
   "execution_count": 16,
   "metadata": {},
   "outputs": [
    {
     "data": {
      "text/plain": [
       "'SUCCESS'"
      ]
     },
     "execution_count": 16,
     "metadata": {},
     "output_type": "execute_result"
    }
   ],
   "source": [
    "position_params = PositionParams(\n",
    "    direction=Direction.CW,\n",
    "    speed=Speed(100),\n",
    "    acceleration=Acceleration(255),\n",
    "    pulse_count=PulseCount(6400),\n",
    "    absolute=AbsoluteFlag.RELATIVE,\n",
    ")\n",
    "\n",
    "SetHome(device=device_params).status\n",
    "Move(device=device_params, params=position_params).status\n",
    "\n"
   ]
  },
  {
   "cell_type": "code",
   "execution_count": 17,
   "metadata": {},
   "outputs": [
    {
     "data": {
      "text/plain": [
       "'SUCCESS'"
      ]
     },
     "execution_count": 17,
     "metadata": {},
     "output_type": "execute_result"
    }
   ],
   "source": [
    "Home(device=device_params, params=HomingMode.MULTI_TURN_UNLIMITED).status\n",
    "# sleep(1)\n",
    "# StopHome(device=device_params).status"
   ]
  },
  {
   "cell_type": "code",
   "execution_count": 19,
   "metadata": {},
   "outputs": [
    {
     "data": {
      "text/plain": [
       "{'homing_mode': 'SINGLE_TURN_NEAREST',\n",
       " 'homing_direction': 'CW',\n",
       " 'homing_speed (RPM)': 30.0,\n",
       " 'homing_timeout': 10000,\n",
       " 'collision_detection_speed (RPM)': 300.0,\n",
       " 'collision_detection_current (mA)': 800.0,\n",
       " 'collision_detection_time (ms)': 60.0,\n",
       " 'auto_home': 'DISABLE'}"
      ]
     },
     "execution_count": 19,
     "metadata": {},
     "output_type": "execute_result"
    }
   ],
   "source": [
    "RetrieveHomeParam(device=device_params).data"
   ]
  },
  {
   "cell_type": "code",
   "execution_count": 13,
   "metadata": {},
   "outputs": [],
   "source": [
    "homing_params = RetrieveHomeParam(device=device_params).raw_data\n"
   ]
  },
  {
   "cell_type": "code",
   "execution_count": 16,
   "metadata": {},
   "outputs": [
    {
     "data": {
      "text/plain": [
       "b\"\\x00\\x00\\x00\\x1e\\x00\\x00'\\x10\\x01,\\x03 \\x00d\\x00\""
      ]
     },
     "execution_count": 16,
     "metadata": {},
     "output_type": "execute_result"
    }
   ],
   "source": [
    "homing_params.bytes"
   ]
  },
  {
   "cell_type": "code",
   "execution_count": 17,
   "metadata": {},
   "outputs": [
    {
     "data": {
      "text/plain": [
       "'SUCCESS'"
      ]
     },
     "execution_count": 17,
     "metadata": {},
     "output_type": "execute_result"
    }
   ],
   "source": [
    "SetHomeParam(device=device_params, params=homing_params).status"
   ]
  },
  {
   "cell_type": "code",
   "execution_count": 16,
   "metadata": {},
   "outputs": [
    {
     "data": {
      "text/plain": [
       "'CONDITIONAL_ERROR'"
      ]
     },
     "execution_count": 16,
     "metadata": {},
     "output_type": "execute_result"
    }
   ],
   "source": [
    "Move(device=device_params, params=position_params).status\n",
    "\n"
   ]
  },
  {
   "cell_type": "code",
   "execution_count": 17,
   "metadata": {},
   "outputs": [
    {
     "data": {
      "text/plain": [
       "'CONDITIONAL_ERROR'"
      ]
     },
     "execution_count": 17,
     "metadata": {},
     "output_type": "execute_result"
    }
   ],
   "source": [
    "Home(device=device_params, params=HomingMode.SINGLE_TURN_NEAREST).status"
   ]
  },
  {
   "cell_type": "code",
   "execution_count": 22,
   "metadata": {},
   "outputs": [
    {
     "data": {
      "text/plain": [
       "{'encoder_ready': True,\n",
       " 'encoder_calibrated': True,\n",
       " 'homing_active': True,\n",
       " 'homing_failed': False}"
      ]
     },
     "execution_count": 22,
     "metadata": {},
     "output_type": "execute_result"
    }
   ],
   "source": [
    "GetHomeStatus(device=device_params).raw_data.data_dict"
   ]
  },
  {
   "cell_type": "code",
   "execution_count": 27,
   "metadata": {},
   "outputs": [
    {
     "data": {
      "text/plain": [
       "'CONDITIONAL_ERROR'"
      ]
     },
     "execution_count": 27,
     "metadata": {},
     "output_type": "execute_result"
    }
   ],
   "source": [
    "\n",
    "calibrate_encoder = CalibrateEncoder\n",
    "calibrate_encoder.unlock()\n",
    "calibrate_encoder(device=device_params).status\n"
   ]
  },
  {
   "cell_type": "code",
   "execution_count": 23,
   "metadata": {},
   "outputs": [
    {
     "name": "stdout",
     "output_type": "stream",
     "text": [
      "{'firmware_version': 255, 'hardware_version': 120}\n",
      "{'phase_resistance (mOhm)': 3417.0, 'phase_inductance (uH)': 1160.0}\n",
      "{'pid_p': 32000, 'pid_i': 10, 'pid_d': 32000}\n",
      "{'stepper_type': 'D18', 'control_mode': 'PUL_FOC', 'communication_mode': 'UART', 'enable_level': 'HOLD', 'default_direction': 'CW', 'microsteps': 16, 'microstep_interp': 'ENABLE', 'screen_off': 'DISABLE', 'open_loop_current (mA)': 800.0, 'max_closed_loop_current (mA)': 3000.0, 'max_voltage (mV)': 5000.0, 'baud_rate': 'BAUD_115200', 'can_rate': 'CAN_500K', 'address': 1, 'checksum_mode': 'FIXED', 'response_mode': 'RECEIVE', 'stall_protect': 'ENABLE', 'stall_speed (RPM)': 8.0, 'stall_current (mA)': 2600.0, 'stall_time (ms)': 2000.0, 'on_target_window': 0.3}\n",
      "{'enabled': True, 'in_position': True, 'stalled': False, 'stall_protection_active': False}\n",
      "{'position_error (deg)': 0.0}\n",
      "{'bus_voltage (mV)': 11934.0, 'bus_phase_current (mA)': 8.0, 'calibrated_encoder_value (deg)': 14.56787109375, 'stepper_target_position (deg)': 0.0, 'stepper_real_time_speed (RPM)': 0.0, 'stepper_real_time_position (deg)': 0.0, 'stepper_position_error (deg)': 0.0, 'encoder_ready': True, 'encoder_calibrated': True, 'is_homing': True, 'homing_failed': False, 'stepper_enabled': True, 'stepper_in_position': True, 'stepper_stalled': False, 'stepper_stall_protection_active': False}\n",
      "{'voltage (mV)': 11949.0}\n",
      "{'current (mA)': 37.0}\n",
      "{'encoder_value (deg)': 14.56787109375}\n"
     ]
    }
   ],
   "source": [
    "\n",
    "print(GetVersion(device=device_params).data)\n",
    "print(GetMotorRH(device=device_params).data)\n",
    "print(GetPID(device=device_params).data)\n",
    "print(GetConfig(device=device_params).data)\n",
    "print(GetStatus(device=device_params).data)\n",
    "print(GetPositionError(device=device_params).data)\n",
    "print(GetSysStatus(device=device_params).data)\n",
    "print(GetBusVoltage(device=device_params).data)\n",
    "print(GetPhaseCurrent(device=device_params).data)\n",
    "print(GetEncoderValue(device=device_params).data)\n",
    "\n"
   ]
  },
  {
   "cell_type": "code",
   "execution_count": 24,
   "metadata": {},
   "outputs": [
    {
     "name": "stdout",
     "output_type": "stream",
     "text": [
      "address: 1\n",
      "baud_rate: BAUD_115200\n",
      "bus_phase_current (mA): 28.0\n",
      "bus_voltage (mV): 11924.0\n",
      "calibrated_encoder_value (deg): 14.56787109375\n",
      "can_rate: CAN_500K\n",
      "checksum_mode: FIXED\n",
      "communication_mode: UART\n",
      "control_mode: PUL_FOC\n",
      "default_direction: CW\n",
      "enable_level: HOLD\n",
      "encoder_calibrated: True\n",
      "encoder_ready: True\n",
      "homing_failed: False\n",
      "is_homing: True\n",
      "max_closed_loop_current (mA): 3000.0\n",
      "max_voltage (mV): 5000.0\n",
      "microstep_interp: ENABLE\n",
      "microsteps: 16\n",
      "on_target_window: 0.3\n",
      "open_loop_current (mA): 800.0\n",
      "response_mode: RECEIVE\n",
      "screen_off: DISABLE\n",
      "stall_current (mA): 2600.0\n",
      "stall_protect: ENABLE\n",
      "stall_speed (RPM): 8.0\n",
      "stall_time (ms): 2000.0\n",
      "stepper_enabled: True\n",
      "stepper_in_position: True\n",
      "stepper_position_error (deg): 0.0\n",
      "stepper_real_time_position (deg): 0.0\n",
      "stepper_real_time_speed (RPM): 0.0\n",
      "stepper_stall_protection_active: False\n",
      "stepper_stalled: False\n",
      "stepper_target_position (deg): 0.0\n",
      "stepper_type: D18\n"
     ]
    }
   ],
   "source": [
    "from itertools import chain\n",
    "\n",
    "sys_status = GetSysStatus(device=device_params).raw_data\n",
    "config_params = GetConfig(device=device_params).raw_data\n",
    "for key, value in sorted(chain(sys_status.data_dict.items(), config_params.data_dict.items())):\n",
    "    print(f\"{key}: {value}\")\n"
   ]
  },
  {
   "cell_type": "code",
   "execution_count": 38,
   "metadata": {},
   "outputs": [
    {
     "data": {
      "text/plain": [
       "'SUCCESS'"
      ]
     },
     "execution_count": 38,
     "metadata": {},
     "output_type": "execute_result"
    }
   ],
   "source": [
    "Set_Microstep = SetMicrostep\n",
    "Set_Microstep.unlock()\n",
    "Set_Microstep(device=device_params, params=Microstep(value=16)).status"
   ]
  },
  {
   "cell_type": "code",
   "execution_count": 39,
   "metadata": {},
   "outputs": [
    {
     "data": {
      "text/plain": [
       "'SUCCESS'"
      ]
     },
     "execution_count": 39,
     "metadata": {},
     "output_type": "execute_result"
    }
   ],
   "source": [
    "Set_ID = SetID\n",
    "Set_ID.unlock()\n",
    "Set_ID(device=device_params, params=Address(value=1)).status\n"
   ]
  },
  {
   "cell_type": "code",
   "execution_count": 25,
   "metadata": {},
   "outputs": [
    {
     "data": {
      "text/plain": [
       "'SUCCESS'"
      ]
     },
     "execution_count": 25,
     "metadata": {},
     "output_type": "execute_result"
    }
   ],
   "source": [
    "SetLoopMode = SetLoopMode\n",
    "SetLoopMode.unlock()\n",
    "SetLoopMode(device=device_params, params=LoopMode.CLOSED).status\n"
   ]
  },
  {
   "cell_type": "code",
   "execution_count": 41,
   "metadata": {},
   "outputs": [
    {
     "data": {
      "text/plain": [
       "'SUCCESS'"
      ]
     },
     "execution_count": 41,
     "metadata": {},
     "output_type": "execute_result"
    }
   ],
   "source": [
    "Set_open_loop_current = SetOpenLoopCurrent\n",
    "Set_open_loop_current.unlock()\n",
    "Set_open_loop_current(device=device_params, params=OpenLoopCurrent(value=800)).status"
   ]
  },
  {
   "cell_type": "code",
   "execution_count": 42,
   "metadata": {},
   "outputs": [
    {
     "name": "stdout",
     "output_type": "stream",
     "text": [
      "{'pid_p': 32000, 'pid_i': 10, 'pid_d': 32000}\n"
     ]
    },
    {
     "data": {
      "text/plain": [
       "'SUCCESS'"
      ]
     },
     "execution_count": 42,
     "metadata": {},
     "output_type": "execute_result"
    }
   ],
   "source": [
    "PID_params = GetPID(device=device_params).raw_data\n",
    "print(PID_params.data_dict)\n",
    "Set_PID = SetPID\n",
    "Set_PID.unlock()\n",
    "Set_PID(device=device_params, params=PID_params).status\n"
   ]
  },
  {
   "cell_type": "code",
   "execution_count": 43,
   "metadata": {},
   "outputs": [
    {
     "data": {
      "text/plain": [
       "'SUCCESS'"
      ]
     },
     "execution_count": 43,
     "metadata": {},
     "output_type": "execute_result"
    }
   ],
   "source": [
    "from src.stepper.stepper_constants import EnablePin\n",
    "start_speed_params = StartSpeedParams(\n",
    "    direction=Direction.CW,\n",
    "    speed=Speed(1000),\n",
    "    acceleration=Acceleration(255),\n",
    "    en_control=EnablePin.ENABLE,\n",
    ")\n",
    "Set_StartSpeed = SetStartSpeed\n",
    "Set_StartSpeed.unlock()\n",
    "Set_StartSpeed(device=device_params, params=start_speed_params).status"
   ]
  },
  {
   "cell_type": "code",
   "execution_count": 26,
   "metadata": {},
   "outputs": [
    {
     "name": "stdout",
     "output_type": "stream",
     "text": [
      "Initial Config:\n",
      "address: 1\n",
      "baud_rate: BAUD_115200\n",
      "can_rate: CAN_500K\n",
      "checksum_mode: FIXED\n",
      "communication_mode: UART\n",
      "control_mode: PUL_FOC\n",
      "default_direction: CW\n",
      "enable_level: HOLD\n",
      "max_closed_loop_current (mA): 3000.0\n",
      "max_voltage (mV): 5000.0\n",
      "microstep_interp: ENABLE\n",
      "microsteps: 16\n",
      "on_target_window: 0.3\n",
      "open_loop_current (mA): 800.0\n",
      "response_mode: RECEIVE\n",
      "screen_off: DISABLE\n",
      "stall_current (mA): 2600.0\n",
      "stall_protect: ENABLE\n",
      "stall_speed (RPM): 8.0\n",
      "stall_time (ms): 2000.0\n",
      "stepper_type: D18\n",
      "-----------------------\n",
      "Changed Config:\n",
      "address: 1\n",
      "baud_rate: BAUD_115200\n",
      "can_rate: CAN_500K\n",
      "checksum_mode: FIXED\n",
      "communication_mode: UART\n",
      "control_mode: PUL_FOC\n",
      "default_direction: CW\n",
      "enable_level: HOLD\n",
      "max_closed_loop_current (mA): 3000.0\n",
      "max_voltage (mV): 5000.0\n",
      "microstep_interp: ENABLE\n",
      "microsteps: 16\n",
      "on_target_window: 0.3\n",
      "open_loop_current (mA): 800.0\n",
      "response_mode: RECEIVE\n",
      "screen_off: DISABLE\n",
      "stall_current (mA): 2600.0\n",
      "stall_protect: ENABLE\n",
      "stall_speed (RPM): 8.0\n",
      "stall_time (ms): 100.0\n",
      "stepper_type: D18\n",
      "-----------------------\n",
      "Changed Config:\n",
      "address: 1\n",
      "baud_rate: BAUD_115200\n",
      "can_rate: CAN_500K\n",
      "checksum_mode: FIXED\n",
      "communication_mode: UART\n",
      "control_mode: PUL_FOC\n",
      "default_direction: CW\n",
      "enable_level: HOLD\n",
      "max_closed_loop_current (mA): 3000.0\n",
      "max_voltage (mV): 5000.0\n",
      "microstep_interp: ENABLE\n",
      "microsteps: 16\n",
      "on_target_window: 0.3\n",
      "open_loop_current (mA): 800.0\n",
      "response_mode: RECEIVE\n",
      "screen_off: DISABLE\n",
      "stall_current (mA): 2600.0\n",
      "stall_protect: ENABLE\n",
      "stall_speed (RPM): 8.0\n",
      "stall_time (ms): 1000.0\n",
      "stepper_type: D18\n"
     ]
    }
   ],
   "source": [
    "from src.stepper.stepper_core.configs import StallTime\n",
    "\n",
    "config_params = GetConfig(device=device_params).raw_data\n",
    "print(\"Initial Config:\")\n",
    "for key, value in sorted(config_params.data_dict.items()):\n",
    "    print(f\"{key}: {value}\")\n",
    "\n",
    "config_params.microstep = Microstep(value=32)\n",
    "config_params.stall_time = StallTime(value=100)\n",
    "\n",
    "Set_Config = SetConfig\n",
    "Set_Config.unlock()\n",
    "Set_Config(device=device_params, params=config_params).status\n",
    "\n",
    "config_params = GetConfig(device=device_params).raw_data\n",
    "print(\"-----------------------\")\n",
    "print(\"Changed Config:\")\n",
    "for key, value in sorted(config_params.data_dict.items()):\n",
    "    print(f\"{key}: {value}\")\n",
    "\n",
    "config_params.microstep = Microstep(Microstep.default)\n",
    "config_params.stall_time = StallTime(StallTime.default)\n",
    "\n",
    "Set_Config = SetConfig\n",
    "Set_Config.unlock()\n",
    "Set_Config(device=device_params, params=config_params).status\n",
    "\n",
    "\n",
    "config_params = GetConfig(device=device_params).raw_data\n",
    "print(\"-----------------------\")\n",
    "print(\"Changed Config:\")\n",
    "for key, value in sorted(config_params.data_dict.items()):\n",
    "    print(f\"{key}: {value}\")\n",
    "\n"
   ]
  }
 ],
 "metadata": {
  "kernelspec": {
   "display_name": "flir",
   "language": "python",
   "name": "python3"
  },
  "language_info": {
   "codemirror_mode": {
    "name": "ipython",
    "version": 3
   },
   "file_extension": ".py",
   "mimetype": "text/x-python",
   "name": "python",
   "nbconvert_exporter": "python",
   "pygments_lexer": "ipython3",
   "version": "3.10.14"
  }
 },
 "nbformat": 4,
 "nbformat_minor": 2
}
