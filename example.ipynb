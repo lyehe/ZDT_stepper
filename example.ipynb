{
 "cells": [
  {
   "cell_type": "code",
   "execution_count": 1,
   "metadata": {},
   "outputs": [
    {
     "name": "stderr",
     "output_type": "stream",
     "text": [
      "Serial connection error: could not open port 'COM3': FileNotFoundError(2, 'The system cannot find the file specified.', None, 2)\n"
     ]
    },
    {
     "name": "stdout",
     "output_type": "stream",
     "text": [
      "-----------------------------------------------------------------------------------------------------------------------------\n",
      "Port       Description                    VID   PID   Manufacturer              Serial Number             Location                 \n",
      "-----------------------------------------------------------------------------------------------------------------------------\n",
      "COM4       USB-SERIAL CH340 (COM4)        6790  29987 wch.cn                    N/A                       1-4                      \n",
      "-----------------------------------------------------------------------------------------------------------------------------\n"
     ]
    },
    {
     "name": "stderr",
     "output_type": "stream",
     "text": [
      "                                                           \r"
     ]
    },
    {
     "data": {
      "text/plain": [
       "{'COM4': 115200}"
      ]
     },
     "execution_count": 1,
     "metadata": {},
     "output_type": "execute_result"
    }
   ],
   "source": [
    "from src.stepper.serial_utilities.serial_utilities import (\n",
    "    detect_baudrate,\n",
    "    detect_port,\n",
    "    test_connection,\n",
    "    list_ports_info,\n",
    "    print_ports_info,\n",
    "    scan_ports,\n",
    "    TestCase,\n",
    ")\n",
    "\n",
    "print_ports_info()\n",
    "test_connection(\"COM3\", 115200, test_case=TestCase.default())\n",
    "scan_ports(test_case=TestCase.default())\n"
   ]
  },
  {
   "cell_type": "code",
   "execution_count": 2,
   "metadata": {},
   "outputs": [
    {
     "ename": "SerialException",
     "evalue": "could not open port 'COM4': PermissionError(13, 'Access is denied.', None, 5)",
     "output_type": "error",
     "traceback": [
      "\u001b[1;31m---------------------------------------------------------------------------\u001b[0m",
      "\u001b[1;31mSerialException\u001b[0m                           Traceback (most recent call last)",
      "Cell \u001b[1;32mIn[2], line 61\u001b[0m\n\u001b[0;32m     55\u001b[0m \u001b[38;5;28;01mfrom\u001b[39;00m \u001b[38;5;21;01msrc\u001b[39;00m\u001b[38;5;21;01m.\u001b[39;00m\u001b[38;5;21;01mstepper\u001b[39;00m\u001b[38;5;21;01m.\u001b[39;00m\u001b[38;5;21;01mstepper_core\u001b[39;00m\u001b[38;5;21;01m.\u001b[39;00m\u001b[38;5;21;01mparameters\u001b[39;00m \u001b[38;5;28;01mimport\u001b[39;00m DeviceParams, JogParams, PositionParams\n\u001b[0;32m     57\u001b[0m \u001b[38;5;66;03m# from time import sleep\u001b[39;00m\n\u001b[0;32m     58\u001b[0m \u001b[38;5;66;03m# import logging\u001b[39;00m\n\u001b[0;32m     59\u001b[0m \u001b[38;5;66;03m# logging.basicConfig(level=logging.DEBUG)\u001b[39;00m\n\u001b[1;32m---> 61\u001b[0m serial_connection \u001b[38;5;241m=\u001b[39m \u001b[43mSerial\u001b[49m\u001b[43m(\u001b[49m\u001b[38;5;124;43m\"\u001b[39;49m\u001b[38;5;124;43mCOM4\u001b[39;49m\u001b[38;5;124;43m\"\u001b[39;49m\u001b[43m,\u001b[49m\u001b[43m \u001b[49m\u001b[38;5;241;43m115200\u001b[39;49m\u001b[43m,\u001b[49m\u001b[43m \u001b[49m\u001b[43mtimeout\u001b[49m\u001b[38;5;241;43m=\u001b[39;49m\u001b[38;5;241;43m0.1\u001b[39;49m\u001b[43m)\u001b[49m\n\u001b[0;32m     63\u001b[0m device_params \u001b[38;5;241m=\u001b[39m DeviceParams(\n\u001b[0;32m     64\u001b[0m     serial_connection\u001b[38;5;241m=\u001b[39mserial_connection,\n\u001b[0;32m     65\u001b[0m     address\u001b[38;5;241m=\u001b[39mAddress(\u001b[38;5;241m0x01\u001b[39m),\n\u001b[0;32m     66\u001b[0m )\n\u001b[0;32m     68\u001b[0m position_params \u001b[38;5;241m=\u001b[39m PositionParams(\n\u001b[0;32m     69\u001b[0m     direction\u001b[38;5;241m=\u001b[39mDirection\u001b[38;5;241m.\u001b[39mCW,\n\u001b[0;32m     70\u001b[0m     speed\u001b[38;5;241m=\u001b[39mSpeed(\u001b[38;5;241m500\u001b[39m),\n\u001b[1;32m   (...)\u001b[0m\n\u001b[0;32m     73\u001b[0m     absolute\u001b[38;5;241m=\u001b[39mAbsoluteFlag\u001b[38;5;241m.\u001b[39mRELATIVE,\n\u001b[0;32m     74\u001b[0m )\n",
      "File \u001b[1;32mc:\\Users\\opsiclear\\miniforge3\\envs\\zdt_stepper\\lib\\site-packages\\serial\\serialwin32.py:33\u001b[0m, in \u001b[0;36mSerial.__init__\u001b[1;34m(self, *args, **kwargs)\u001b[0m\n\u001b[0;32m     31\u001b[0m \u001b[38;5;28mself\u001b[39m\u001b[38;5;241m.\u001b[39m_overlapped_read \u001b[38;5;241m=\u001b[39m \u001b[38;5;28;01mNone\u001b[39;00m\n\u001b[0;32m     32\u001b[0m \u001b[38;5;28mself\u001b[39m\u001b[38;5;241m.\u001b[39m_overlapped_write \u001b[38;5;241m=\u001b[39m \u001b[38;5;28;01mNone\u001b[39;00m\n\u001b[1;32m---> 33\u001b[0m \u001b[38;5;28msuper\u001b[39m(Serial, \u001b[38;5;28mself\u001b[39m)\u001b[38;5;241m.\u001b[39m\u001b[38;5;21m__init__\u001b[39m(\u001b[38;5;241m*\u001b[39margs, \u001b[38;5;241m*\u001b[39m\u001b[38;5;241m*\u001b[39mkwargs)\n",
      "File \u001b[1;32mc:\\Users\\opsiclear\\miniforge3\\envs\\zdt_stepper\\lib\\site-packages\\serial\\serialutil.py:244\u001b[0m, in \u001b[0;36mSerialBase.__init__\u001b[1;34m(self, port, baudrate, bytesize, parity, stopbits, timeout, xonxoff, rtscts, write_timeout, dsrdtr, inter_byte_timeout, exclusive, **kwargs)\u001b[0m\n\u001b[0;32m    241\u001b[0m     \u001b[38;5;28;01mraise\u001b[39;00m \u001b[38;5;167;01mValueError\u001b[39;00m(\u001b[38;5;124m'\u001b[39m\u001b[38;5;124munexpected keyword arguments: \u001b[39m\u001b[38;5;132;01m{!r}\u001b[39;00m\u001b[38;5;124m'\u001b[39m\u001b[38;5;241m.\u001b[39mformat(kwargs))\n\u001b[0;32m    243\u001b[0m \u001b[38;5;28;01mif\u001b[39;00m port \u001b[38;5;129;01mis\u001b[39;00m \u001b[38;5;129;01mnot\u001b[39;00m \u001b[38;5;28;01mNone\u001b[39;00m:\n\u001b[1;32m--> 244\u001b[0m     \u001b[38;5;28;43mself\u001b[39;49m\u001b[38;5;241;43m.\u001b[39;49m\u001b[43mopen\u001b[49m\u001b[43m(\u001b[49m\u001b[43m)\u001b[49m\n",
      "File \u001b[1;32mc:\\Users\\opsiclear\\miniforge3\\envs\\zdt_stepper\\lib\\site-packages\\serial\\serialwin32.py:64\u001b[0m, in \u001b[0;36mSerial.open\u001b[1;34m(self)\u001b[0m\n\u001b[0;32m     62\u001b[0m \u001b[38;5;28;01mif\u001b[39;00m \u001b[38;5;28mself\u001b[39m\u001b[38;5;241m.\u001b[39m_port_handle \u001b[38;5;241m==\u001b[39m win32\u001b[38;5;241m.\u001b[39mINVALID_HANDLE_VALUE:\n\u001b[0;32m     63\u001b[0m     \u001b[38;5;28mself\u001b[39m\u001b[38;5;241m.\u001b[39m_port_handle \u001b[38;5;241m=\u001b[39m \u001b[38;5;28;01mNone\u001b[39;00m    \u001b[38;5;66;03m# 'cause __del__ is called anyway\u001b[39;00m\n\u001b[1;32m---> 64\u001b[0m     \u001b[38;5;28;01mraise\u001b[39;00m SerialException(\u001b[38;5;124m\"\u001b[39m\u001b[38;5;124mcould not open port \u001b[39m\u001b[38;5;132;01m{!r}\u001b[39;00m\u001b[38;5;124m: \u001b[39m\u001b[38;5;132;01m{!r}\u001b[39;00m\u001b[38;5;124m\"\u001b[39m\u001b[38;5;241m.\u001b[39mformat(\u001b[38;5;28mself\u001b[39m\u001b[38;5;241m.\u001b[39mportstr, ctypes\u001b[38;5;241m.\u001b[39mWinError()))\n\u001b[0;32m     66\u001b[0m \u001b[38;5;28;01mtry\u001b[39;00m:\n\u001b[0;32m     67\u001b[0m     \u001b[38;5;28mself\u001b[39m\u001b[38;5;241m.\u001b[39m_overlapped_read \u001b[38;5;241m=\u001b[39m win32\u001b[38;5;241m.\u001b[39mOVERLAPPED()\n",
      "\u001b[1;31mSerialException\u001b[0m: could not open port 'COM4': PermissionError(13, 'Access is denied.', None, 5)"
     ]
    }
   ],
   "source": [
    "import time\n",
    "from serial import Serial\n",
    "\n",
    "from src.stepper.commands.get import (\n",
    "    GetBusVoltage,\n",
    "    GetConfig,\n",
    "    GetEncoderValue,\n",
    "    GetError,\n",
    "    GetMotorRH,\n",
    "    GetPID,\n",
    "    GetPhaseCurrent,\n",
    "    GetRealTimePosition,\n",
    "    GetRealTimeSpeed,\n",
    "    GetStatus,\n",
    "    GetSysStatus,\n",
    "    GetTargetPosition,\n",
    "    GetVersion,\n",
    ")\n",
    "from src.stepper.commands.home import (\n",
    "    GetHomeStatus,\n",
    "    Home,\n",
    "    RetrieveHomeParam,\n",
    "    SetHome,\n",
    "    SetHomeParam,\n",
    "    StopHome,\n",
    ")\n",
    "from src.stepper.commands.move import Disable, EStop, Enable, Jog, Move, SyncMove\n",
    "from src.stepper.commands.set import (\n",
    "    Kpid,\n",
    "    LoopMode,\n",
    "    Microstep,\n",
    "    OpenLoopCurrent,\n",
    "    SetConfig,\n",
    "    SetID,\n",
    "    SetLoopMode,\n",
    "    SetMicrostep,\n",
    "    SetOpenLoopCurrent,\n",
    "    SetPID,\n",
    "    SetReduction,\n",
    "    SetStartSpeed,\n",
    "    SpeedReduction,\n",
    "    StartSpeedParams,\n",
    ")\n",
    "from src.stepper.commands.system import CalibrateEncoder, ZeroAllPositions\n",
    "from src.stepper.stepper_core.configs import (\n",
    "    AbsoluteFlag,\n",
    "    Acceleration,\n",
    "    Address,\n",
    "    Direction,\n",
    "    HomingMode,\n",
    "    PulseCount,\n",
    "    Speed,\n",
    "    SyncFlag,\n",
    ")\n",
    "from src.stepper.stepper_core.parameters import DeviceParams, JogParams, PositionParams\n",
    "\n",
    "# from time import sleep\n",
    "# import logging\n",
    "# logging.basicConfig(level=logging.DEBUG)\n",
    "\n",
    "serial_connection = Serial(\"COM4\", 115200, timeout=0.1)\n",
    "\n",
    "device_params = DeviceParams(\n",
    "    serial_connection=serial_connection,\n",
    "    address=Address(0x01),\n",
    ")\n",
    "\n",
    "position_params = PositionParams(\n",
    "    direction=Direction.CW,\n",
    "    speed=Speed(500),\n",
    "    acceleration=Acceleration(127),\n",
    "    pulse_count=PulseCount(160),\n",
    "    absolute=AbsoluteFlag.RELATIVE,\n",
    ")\n",
    "\n",
    "jog_params = JogParams(\n",
    "    direction=Direction.CW,\n",
    "    speed=Speed(1),\n",
    "    acceleration=Acceleration(255),\n",
    ")"
   ]
  },
  {
   "cell_type": "code",
   "execution_count": 27,
   "metadata": {},
   "outputs": [
    {
     "data": {
      "text/plain": [
       "'SUCCESS'"
      ]
     },
     "execution_count": 27,
     "metadata": {},
     "output_type": "execute_result"
    }
   ],
   "source": [
    "SetHome(device=device_params).status\n",
    "\n",
    "zero_all_positions = ZeroAllPositions\n",
    "zero_all_positions.unlock()\n",
    "zero_all_positions(device=device_params).status\n"
   ]
  },
  {
   "cell_type": "code",
   "execution_count": 28,
   "metadata": {},
   "outputs": [
    {
     "name": "stdout",
     "output_type": "stream",
     "text": [
      "{'position_error (deg)': 0.0}\n",
      "{'real_time_position (deg)': 0.0}\n",
      "{'target_position (deg)': 0.0}\n"
     ]
    }
   ],
   "source": [
    "position_params = PositionParams(\n",
    "    direction=Direction.CW,\n",
    "    speed=Speed(250),\n",
    "    acceleration=Acceleration(200),\n",
    "    pulse_count=PulseCount(160),\n",
    "    absolute=AbsoluteFlag.RELATIVE,\n",
    ")\n",
    "\n",
    "Enable(device=device_params).status\n",
    "Move(device=device_params, params=position_params).status\n",
    "time.sleep(0.1)\n",
    "print(GetError(device=device_params).raw_data.data_dict)\n",
    "print(GetRealTimePosition(device=device_params).raw_data.data_dict)\n",
    "print(GetTargetPosition(device=device_params).raw_data.data_dict)\n"
   ]
  },
  {
   "cell_type": "code",
   "execution_count": 7,
   "metadata": {},
   "outputs": [
    {
     "data": {
      "text/plain": [
       "'CONDITIONAL_ERROR'"
      ]
     },
     "execution_count": 7,
     "metadata": {},
     "output_type": "execute_result"
    }
   ],
   "source": [
    "Disable(device=device_params).status\n",
    "Move(device=device_params, params=position_params).status"
   ]
  },
  {
   "cell_type": "code",
   "execution_count": 30,
   "metadata": {},
   "outputs": [
    {
     "data": {
      "text/plain": [
       "'CONDITIONAL_ERROR'"
      ]
     },
     "execution_count": 30,
     "metadata": {},
     "output_type": "execute_result"
    }
   ],
   "source": [
    "Jog(device=device_params, params=jog_params).status"
   ]
  },
  {
   "cell_type": "code",
   "execution_count": 4,
   "metadata": {},
   "outputs": [
    {
     "data": {
      "text/plain": [
       "'CONDITIONAL_ERROR'"
      ]
     },
     "execution_count": 4,
     "metadata": {},
     "output_type": "execute_result"
    }
   ],
   "source": [
    "EStop(device=device_params).status"
   ]
  },
  {
   "cell_type": "code",
   "execution_count": 9,
   "metadata": {},
   "outputs": [
    {
     "data": {
      "text/plain": [
       "'CONDITIONAL_ERROR'"
      ]
     },
     "execution_count": 9,
     "metadata": {},
     "output_type": "execute_result"
    }
   ],
   "source": [
    "Move(device=device_params, params=position_params, setting=SyncFlag.SYNC).is_success\n",
    "SyncMove(device=device_params).status"
   ]
  },
  {
   "cell_type": "code",
   "execution_count": 10,
   "metadata": {},
   "outputs": [
    {
     "data": {
      "text/plain": [
       "'SUCCESS'"
      ]
     },
     "execution_count": 10,
     "metadata": {},
     "output_type": "execute_result"
    }
   ],
   "source": [
    "position_params = PositionParams(\n",
    "    direction=Direction.CW,\n",
    "    speed=Speed(100),\n",
    "    acceleration=Acceleration(255),\n",
    "    pulse_count=PulseCount(6400),\n",
    "    absolute=AbsoluteFlag.RELATIVE,\n",
    ")\n",
    "\n",
    "SetHome(device=device_params).status\n",
    "Move(device=device_params, params=position_params).status\n",
    "\n"
   ]
  },
  {
   "cell_type": "code",
   "execution_count": 18,
   "metadata": {},
   "outputs": [
    {
     "data": {
      "text/plain": [
       "'CONDITIONAL_ERROR'"
      ]
     },
     "execution_count": 18,
     "metadata": {},
     "output_type": "execute_result"
    }
   ],
   "source": [
    "Home(device=device_params, params=HomingMode.MULTI_TURN_UNLIMITED).status\n",
    "# sleep(1)\n",
    "# StopHome(device=device_params).status"
   ]
  },
  {
   "cell_type": "code",
   "execution_count": 12,
   "metadata": {},
   "outputs": [
    {
     "data": {
      "text/plain": [
       "{'homing_mode': 'SINGLE_TURN_NEAREST',\n",
       " 'homing_direction': 'CW',\n",
       " 'homing_speed (RPM)': 30.0,\n",
       " 'homing_timeout': 10000,\n",
       " 'collision_detection_speed (RPM)': 300.0,\n",
       " 'collision_detection_current (mA)': 800.0,\n",
       " 'collision_detection_time (ms)': 100.0,\n",
       " 'auto_home': 'DISABLE'}"
      ]
     },
     "execution_count": 12,
     "metadata": {},
     "output_type": "execute_result"
    }
   ],
   "source": [
    "RetrieveHomeParam(device=device_params).data"
   ]
  },
  {
   "cell_type": "code",
   "execution_count": 13,
   "metadata": {},
   "outputs": [],
   "source": [
    "homing_params = RetrieveHomeParam(device=device_params).raw_data\n"
   ]
  },
  {
   "cell_type": "code",
   "execution_count": 16,
   "metadata": {},
   "outputs": [
    {
     "data": {
      "text/plain": [
       "b\"\\x00\\x00\\x00\\x1e\\x00\\x00'\\x10\\x01,\\x03 \\x00d\\x00\""
      ]
     },
     "execution_count": 16,
     "metadata": {},
     "output_type": "execute_result"
    }
   ],
   "source": [
    "homing_params.bytes"
   ]
  },
  {
   "cell_type": "code",
   "execution_count": 17,
   "metadata": {},
   "outputs": [
    {
     "data": {
      "text/plain": [
       "'SUCCESS'"
      ]
     },
     "execution_count": 17,
     "metadata": {},
     "output_type": "execute_result"
    }
   ],
   "source": [
    "SetHomeParam(device=device_params, params=homing_params).status"
   ]
  },
  {
   "cell_type": "code",
   "execution_count": 16,
   "metadata": {},
   "outputs": [
    {
     "data": {
      "text/plain": [
       "'CONDITIONAL_ERROR'"
      ]
     },
     "execution_count": 16,
     "metadata": {},
     "output_type": "execute_result"
    }
   ],
   "source": [
    "Move(device=device_params, params=position_params).status\n",
    "\n"
   ]
  },
  {
   "cell_type": "code",
   "execution_count": 17,
   "metadata": {},
   "outputs": [
    {
     "data": {
      "text/plain": [
       "'CONDITIONAL_ERROR'"
      ]
     },
     "execution_count": 17,
     "metadata": {},
     "output_type": "execute_result"
    }
   ],
   "source": [
    "Home(device=device_params, params=HomingMode.SINGLE_TURN_NEAREST).status"
   ]
  },
  {
   "cell_type": "code",
   "execution_count": 22,
   "metadata": {},
   "outputs": [
    {
     "data": {
      "text/plain": [
       "{'encoder_ready': True,\n",
       " 'encoder_calibrated': True,\n",
       " 'homing_active': True,\n",
       " 'homing_failed': False}"
      ]
     },
     "execution_count": 22,
     "metadata": {},
     "output_type": "execute_result"
    }
   ],
   "source": [
    "GetHomeStatus(device=device_params).raw_data.data_dict"
   ]
  },
  {
   "cell_type": "code",
   "execution_count": 27,
   "metadata": {},
   "outputs": [
    {
     "data": {
      "text/plain": [
       "'CONDITIONAL_ERROR'"
      ]
     },
     "execution_count": 27,
     "metadata": {},
     "output_type": "execute_result"
    }
   ],
   "source": [
    "\n",
    "calibrate_encoder = CalibrateEncoder\n",
    "calibrate_encoder.unlock()\n",
    "calibrate_encoder(device=device_params).status\n"
   ]
  },
  {
   "cell_type": "code",
   "execution_count": 23,
   "metadata": {},
   "outputs": [
    {
     "name": "stdout",
     "output_type": "stream",
     "text": [
      "{'firmware_version': 255, 'hardware_version': 120}\n",
      "{'phase_resistance (mOhm)': 3417.0, 'phase_inductance (uH)': 1160.0}\n",
      "{'pid_p': 32000, 'pid_i': 10, 'pid_d': 32000}\n",
      "{'stepper_type': 'D18', 'control_mode': 'PUL_FOC', 'communication_mode': 'UART', 'enable_level': 'HOLD', 'default_direction': 'CW', 'microsteps': 16, 'microstep_interp': 'ENABLE', 'screen_off': 'DISABLE', 'open_loop_current (mA)': 800.0, 'max_closed_loop_current (mA)': 3000.0, 'max_voltage (mV)': 5000.0, 'baud_rate': 'BAUD_115200', 'can_rate': 'CAN_500K', 'address': 1, 'checksum_mode': 'FIXED', 'response_mode': 'RECEIVE', 'stall_protect': 'ENABLE', 'stall_speed (RPM)': 8.0, 'stall_current (mA)': 2600.0, 'stall_time (ms)': 2000.0, 'on_target_window': 0.3}\n",
      "{'enabled': True, 'in_position': True, 'stalled': False, 'stall_protection_active': False}\n",
      "{'position_error (deg)': 0.0}\n",
      "{'bus_voltage (mV)': 11934.0, 'bus_phase_current (mA)': 8.0, 'calibrated_encoder_value (deg)': 14.56787109375, 'stepper_target_position (deg)': 0.0, 'stepper_real_time_speed (RPM)': 0.0, 'stepper_real_time_position (deg)': 0.0, 'stepper_position_error (deg)': 0.0, 'encoder_ready': True, 'encoder_calibrated': True, 'is_homing': True, 'homing_failed': False, 'stepper_enabled': True, 'stepper_in_position': True, 'stepper_stalled': False, 'stepper_stall_protection_active': False}\n",
      "{'voltage (mV)': 11949.0}\n",
      "{'current (mA)': 37.0}\n",
      "{'encoder_value (deg)': 14.56787109375}\n"
     ]
    }
   ],
   "source": [
    "\n",
    "print(GetVersion(device=device_params).data)\n",
    "print(GetMotorRH(device=device_params).data)\n",
    "print(GetPID(device=device_params).data)\n",
    "print(GetConfig(device=device_params).data)\n",
    "print(GetStatus(device=device_params).data)\n",
    "print(GetError(device=device_params).data)\n",
    "print(GetSysStatus(device=device_params).data)\n",
    "print(GetBusVoltage(device=device_params).data)\n",
    "print(GetPhaseCurrent(device=device_params).data)\n",
    "print(GetEncoderValue(device=device_params).data)\n",
    "\n"
   ]
  },
  {
   "cell_type": "code",
   "execution_count": 24,
   "metadata": {},
   "outputs": [
    {
     "name": "stdout",
     "output_type": "stream",
     "text": [
      "address: 1\n",
      "baud_rate: BAUD_115200\n",
      "bus_phase_current (mA): 28.0\n",
      "bus_voltage (mV): 11924.0\n",
      "calibrated_encoder_value (deg): 14.56787109375\n",
      "can_rate: CAN_500K\n",
      "checksum_mode: FIXED\n",
      "communication_mode: UART\n",
      "control_mode: PUL_FOC\n",
      "default_direction: CW\n",
      "enable_level: HOLD\n",
      "encoder_calibrated: True\n",
      "encoder_ready: True\n",
      "homing_failed: False\n",
      "is_homing: True\n",
      "max_closed_loop_current (mA): 3000.0\n",
      "max_voltage (mV): 5000.0\n",
      "microstep_interp: ENABLE\n",
      "microsteps: 16\n",
      "on_target_window: 0.3\n",
      "open_loop_current (mA): 800.0\n",
      "response_mode: RECEIVE\n",
      "screen_off: DISABLE\n",
      "stall_current (mA): 2600.0\n",
      "stall_protect: ENABLE\n",
      "stall_speed (RPM): 8.0\n",
      "stall_time (ms): 2000.0\n",
      "stepper_enabled: True\n",
      "stepper_in_position: True\n",
      "stepper_position_error (deg): 0.0\n",
      "stepper_real_time_position (deg): 0.0\n",
      "stepper_real_time_speed (RPM): 0.0\n",
      "stepper_stall_protection_active: False\n",
      "stepper_stalled: False\n",
      "stepper_target_position (deg): 0.0\n",
      "stepper_type: D18\n"
     ]
    }
   ],
   "source": [
    "from itertools import chain\n",
    "\n",
    "sys_status = GetSysStatus(device=device_params).raw_data\n",
    "config_params = GetConfig(device=device_params).raw_data\n",
    "for key, value in sorted(chain(sys_status.data_dict.items(), config_params.data_dict.items())):\n",
    "    print(f\"{key}: {value}\")\n"
   ]
  },
  {
   "cell_type": "code",
   "execution_count": 38,
   "metadata": {},
   "outputs": [
    {
     "data": {
      "text/plain": [
       "'SUCCESS'"
      ]
     },
     "execution_count": 38,
     "metadata": {},
     "output_type": "execute_result"
    }
   ],
   "source": [
    "Set_Microstep = SetMicrostep\n",
    "Set_Microstep.unlock()\n",
    "Set_Microstep(device=device_params, params=Microstep(value=16)).status"
   ]
  },
  {
   "cell_type": "code",
   "execution_count": 39,
   "metadata": {},
   "outputs": [
    {
     "data": {
      "text/plain": [
       "'SUCCESS'"
      ]
     },
     "execution_count": 39,
     "metadata": {},
     "output_type": "execute_result"
    }
   ],
   "source": [
    "Set_ID = SetID\n",
    "Set_ID.unlock()\n",
    "Set_ID(device=device_params, params=Address(value=1)).status\n"
   ]
  },
  {
   "cell_type": "code",
   "execution_count": 25,
   "metadata": {},
   "outputs": [
    {
     "data": {
      "text/plain": [
       "'SUCCESS'"
      ]
     },
     "execution_count": 25,
     "metadata": {},
     "output_type": "execute_result"
    }
   ],
   "source": [
    "SetLoopMode = SetLoopMode\n",
    "SetLoopMode.unlock()\n",
    "SetLoopMode(device=device_params, params=LoopMode.CLOSED).status\n"
   ]
  },
  {
   "cell_type": "code",
   "execution_count": 41,
   "metadata": {},
   "outputs": [
    {
     "data": {
      "text/plain": [
       "'SUCCESS'"
      ]
     },
     "execution_count": 41,
     "metadata": {},
     "output_type": "execute_result"
    }
   ],
   "source": [
    "Set_open_loop_current = SetOpenLoopCurrent\n",
    "Set_open_loop_current.unlock()\n",
    "Set_open_loop_current(device=device_params, params=OpenLoopCurrent(value=800)).status"
   ]
  },
  {
   "cell_type": "code",
   "execution_count": 42,
   "metadata": {},
   "outputs": [
    {
     "name": "stdout",
     "output_type": "stream",
     "text": [
      "{'pid_p': 32000, 'pid_i': 10, 'pid_d': 32000}\n"
     ]
    },
    {
     "data": {
      "text/plain": [
       "'SUCCESS'"
      ]
     },
     "execution_count": 42,
     "metadata": {},
     "output_type": "execute_result"
    }
   ],
   "source": [
    "PID_params = GetPID(device=device_params).raw_data\n",
    "print(PID_params.data_dict)\n",
    "Set_PID = SetPID\n",
    "Set_PID.unlock()\n",
    "Set_PID(device=device_params, params=PID_params).status\n"
   ]
  },
  {
   "cell_type": "code",
   "execution_count": 43,
   "metadata": {},
   "outputs": [
    {
     "data": {
      "text/plain": [
       "'SUCCESS'"
      ]
     },
     "execution_count": 43,
     "metadata": {},
     "output_type": "execute_result"
    }
   ],
   "source": [
    "from src.stepper.stepper_constants import EnablePin\n",
    "start_speed_params = StartSpeedParams(\n",
    "    direction=Direction.CW,\n",
    "    speed=Speed(1000),\n",
    "    acceleration=Acceleration(255),\n",
    "    en_control=EnablePin.ENABLE,\n",
    ")\n",
    "Set_StartSpeed = SetStartSpeed\n",
    "Set_StartSpeed.unlock()\n",
    "Set_StartSpeed(device=device_params, params=start_speed_params).status"
   ]
  },
  {
   "cell_type": "code",
   "execution_count": 26,
   "metadata": {},
   "outputs": [
    {
     "name": "stdout",
     "output_type": "stream",
     "text": [
      "Initial Config:\n",
      "address: 1\n",
      "baud_rate: BAUD_115200\n",
      "can_rate: CAN_500K\n",
      "checksum_mode: FIXED\n",
      "communication_mode: UART\n",
      "control_mode: PUL_FOC\n",
      "default_direction: CW\n",
      "enable_level: HOLD\n",
      "max_closed_loop_current (mA): 3000.0\n",
      "max_voltage (mV): 5000.0\n",
      "microstep_interp: ENABLE\n",
      "microsteps: 16\n",
      "on_target_window: 0.3\n",
      "open_loop_current (mA): 800.0\n",
      "response_mode: RECEIVE\n",
      "screen_off: DISABLE\n",
      "stall_current (mA): 2600.0\n",
      "stall_protect: ENABLE\n",
      "stall_speed (RPM): 8.0\n",
      "stall_time (ms): 2000.0\n",
      "stepper_type: D18\n",
      "-----------------------\n",
      "Changed Config:\n",
      "address: 1\n",
      "baud_rate: BAUD_115200\n",
      "can_rate: CAN_500K\n",
      "checksum_mode: FIXED\n",
      "communication_mode: UART\n",
      "control_mode: PUL_FOC\n",
      "default_direction: CW\n",
      "enable_level: HOLD\n",
      "max_closed_loop_current (mA): 3000.0\n",
      "max_voltage (mV): 5000.0\n",
      "microstep_interp: ENABLE\n",
      "microsteps: 16\n",
      "on_target_window: 0.3\n",
      "open_loop_current (mA): 800.0\n",
      "response_mode: RECEIVE\n",
      "screen_off: DISABLE\n",
      "stall_current (mA): 2600.0\n",
      "stall_protect: ENABLE\n",
      "stall_speed (RPM): 8.0\n",
      "stall_time (ms): 100.0\n",
      "stepper_type: D18\n",
      "-----------------------\n",
      "Changed Config:\n",
      "address: 1\n",
      "baud_rate: BAUD_115200\n",
      "can_rate: CAN_500K\n",
      "checksum_mode: FIXED\n",
      "communication_mode: UART\n",
      "control_mode: PUL_FOC\n",
      "default_direction: CW\n",
      "enable_level: HOLD\n",
      "max_closed_loop_current (mA): 3000.0\n",
      "max_voltage (mV): 5000.0\n",
      "microstep_interp: ENABLE\n",
      "microsteps: 16\n",
      "on_target_window: 0.3\n",
      "open_loop_current (mA): 800.0\n",
      "response_mode: RECEIVE\n",
      "screen_off: DISABLE\n",
      "stall_current (mA): 2600.0\n",
      "stall_protect: ENABLE\n",
      "stall_speed (RPM): 8.0\n",
      "stall_time (ms): 1000.0\n",
      "stepper_type: D18\n"
     ]
    }
   ],
   "source": [
    "from src.stepper.stepper_core.configs import StallTime\n",
    "\n",
    "config_params = GetConfig(device=device_params).raw_data\n",
    "print(\"Initial Config:\")\n",
    "for key, value in sorted(config_params.data_dict.items()):\n",
    "    print(f\"{key}: {value}\")\n",
    "\n",
    "config_params.microstep = Microstep(value=32)\n",
    "config_params.stall_time = StallTime(value=100)\n",
    "\n",
    "Set_Config = SetConfig\n",
    "Set_Config.unlock()\n",
    "Set_Config(device=device_params, params=config_params).status\n",
    "\n",
    "config_params = GetConfig(device=device_params).raw_data\n",
    "print(\"-----------------------\")\n",
    "print(\"Changed Config:\")\n",
    "for key, value in sorted(config_params.data_dict.items()):\n",
    "    print(f\"{key}: {value}\")\n",
    "\n",
    "config_params.microstep = Microstep(Microstep.default)\n",
    "config_params.stall_time = StallTime(StallTime.default)\n",
    "\n",
    "Set_Config = SetConfig\n",
    "Set_Config.unlock()\n",
    "Set_Config(device=device_params, params=config_params).status\n",
    "\n",
    "\n",
    "config_params = GetConfig(device=device_params).raw_data\n",
    "print(\"-----------------------\")\n",
    "print(\"Changed Config:\")\n",
    "for key, value in sorted(config_params.data_dict.items()):\n",
    "    print(f\"{key}: {value}\")\n",
    "\n"
   ]
  }
 ],
 "metadata": {
  "kernelspec": {
   "display_name": "flir",
   "language": "python",
   "name": "python3"
  },
  "language_info": {
   "codemirror_mode": {
    "name": "ipython",
    "version": 3
   },
   "file_extension": ".py",
   "mimetype": "text/x-python",
   "name": "python",
   "nbconvert_exporter": "python",
   "pygments_lexer": "ipython3",
   "version": "3.10.16"
  }
 },
 "nbformat": 4,
 "nbformat_minor": 2
}
