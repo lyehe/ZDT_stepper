{
 "cells": [
  {
   "cell_type": "code",
   "execution_count": 1,
   "metadata": {},
   "outputs": [
    {
     "name": "stderr",
     "output_type": "stream",
     "text": [
      "2024-11-27 10:20:58,477 - StepperMotor - DEBUG - Command: Enable motor (store=0, sync=0)\n",
      "TX: 01 F3 AB 01 00 6B\n",
      "2024-11-27 10:20:58,481 - StepperMotor - DEBUG - Response to Enable motor (store=0, sync=0):\n",
      "RX: 01 F3 02 6B\n",
      "2024-11-27 10:20:58,481 - StepperMotor - DEBUG - Command: Read system status\n",
      "TX: 01 43 7A 6B\n",
      "2024-11-27 10:20:58,487 - StepperMotor - DEBUG - Response to Read system status:\n",
      "RX: 01 43 1F 09 2E AC 00 49 2A 9C 01 00 00 7F F6 00 00 00 01 00 00 80 0E 00 00 00 00 18 07 03 6B\n",
      "2024-11-27 10:20:58,488 - StepperMotor - DEBUG - System status raw data: 09 2E AC 00 49 2A 9C 01 00 00 7F F6 00 00 00 01 00 00 80 0E 00 00 00 00 18 07 03\n",
      "2024-11-27 10:20:58,488 - StepperMotor - DEBUG - Command: Read homing status\n",
      "TX: 01 3B 6B\n",
      "2024-11-27 10:20:58,492 - StepperMotor - DEBUG - Response to Read homing status:\n",
      "RX: 01 3B 07 6B\n"
     ]
    },
    {
     "name": "stdout",
     "output_type": "stream",
     "text": [
      "System status:\n",
      "('bus_voltage', 2.35)\n",
      "('phase_current', 44.032)\n",
      "('encoder_value', 18730)\n",
      "('target_position', Position(steps=-16777343, revolutions=-257, degrees=0.6976318359375))\n",
      "('realtime_speed', 0)\n",
      "('realtime_position', Position(steps=16777344, revolutions=256, degrees=0.703125))\n",
      "('position_error', {'steps': 0, 'degrees': 0.0})\n",
      "('ready_status', {'encoder_ready': False, 'calibration_ready': False, 'homing_in_progress': False, 'homing_failed': True})\n",
      "('motor_status', {'enabled': True, 'position_reached': True, 'stalled': True, 'protection_triggered': False})\n"
     ]
    },
    {
     "ename": "TypeError",
     "evalue": "'NoneType' object is not subscriptable",
     "output_type": "error",
     "traceback": [
      "\u001b[1;31m---------------------------------------------------------------------------\u001b[0m",
      "\u001b[1;31mTypeError\u001b[0m                                 Traceback (most recent call last)",
      "Cell \u001b[1;32mIn[1], line 28\u001b[0m\n\u001b[0;32m     25\u001b[0m \u001b[38;5;28;01mfor\u001b[39;00m items \u001b[38;5;129;01min\u001b[39;00m motor\u001b[38;5;241m.\u001b[39mget_system_status()\u001b[38;5;241m.\u001b[39mitems():\n\u001b[0;32m     26\u001b[0m     \u001b[38;5;28mprint\u001b[39m(items)\n\u001b[1;32m---> 28\u001b[0m \u001b[38;5;28mprint\u001b[39m(\u001b[38;5;124mf\u001b[39m\u001b[38;5;124m\"\u001b[39m\u001b[38;5;124mHoming status: \u001b[39m\u001b[38;5;132;01m{\u001b[39;00m\u001b[43mmotor\u001b[49m\u001b[38;5;241;43m.\u001b[39;49m\u001b[43mget_homing_status\u001b[49m\u001b[43m(\u001b[49m\u001b[43m)\u001b[49m\u001b[38;5;132;01m}\u001b[39;00m\u001b[38;5;124m\"\u001b[39m)\n\u001b[0;32m     29\u001b[0m \u001b[38;5;28mprint\u001b[39m(\u001b[38;5;124mf\u001b[39m\u001b[38;5;124m\"\u001b[39m\u001b[38;5;124mMotor status: \u001b[39m\u001b[38;5;132;01m{\u001b[39;00mmotor\u001b[38;5;241m.\u001b[39mget_encoder_calibration_status()\u001b[38;5;132;01m}\u001b[39;00m\u001b[38;5;124m\"\u001b[39m)\n\u001b[0;32m     31\u001b[0m \u001b[38;5;28mprint\u001b[39m(\u001b[38;5;124mf\u001b[39m\u001b[38;5;124m\"\u001b[39m\u001b[38;5;124mBus voltage: \u001b[39m\u001b[38;5;132;01m{\u001b[39;00mmotor\u001b[38;5;241m.\u001b[39mget_bus_voltage()\u001b[38;5;132;01m}\u001b[39;00m\u001b[38;5;124m\"\u001b[39m)\n",
      "File \u001b[1;32mc:\\Users\\opsiclear\\projects\\ZDT_stepper\\src\\stepper\\stepper.py:349\u001b[0m, in \u001b[0;36mStepper.get_homing_status\u001b[1;34m(self)\u001b[0m\n\u001b[0;32m    346\u001b[0m \u001b[38;5;66;03m# The response format is: [Address] [CMD] [Status] [Checksum]\u001b[39;00m\n\u001b[0;32m    347\u001b[0m \u001b[38;5;66;03m# We're getting: 01 3B 03 6B which is a valid response\u001b[39;00m\n\u001b[0;32m    348\u001b[0m \u001b[38;5;28;01mif\u001b[39;00m result\u001b[38;5;241m.\u001b[39msuccess:  \u001b[38;5;66;03m# Remove the data check since we always get data\u001b[39;00m\n\u001b[1;32m--> 349\u001b[0m     status \u001b[38;5;241m=\u001b[39m \u001b[43mresult\u001b[49m\u001b[38;5;241;43m.\u001b[39;49m\u001b[43mdata\u001b[49m\u001b[43m[\u001b[49m\u001b[38;5;241;43m0\u001b[39;49m\u001b[43m]\u001b[49m\n\u001b[0;32m    350\u001b[0m     \u001b[38;5;28;01mreturn\u001b[39;00m {\n\u001b[0;32m    351\u001b[0m         \u001b[38;5;124m\"\u001b[39m\u001b[38;5;124mencoder_ready\u001b[39m\u001b[38;5;124m\"\u001b[39m: \u001b[38;5;28mbool\u001b[39m(status \u001b[38;5;241m&\u001b[39m \u001b[38;5;241m0x01\u001b[39m),\n\u001b[0;32m    352\u001b[0m         \u001b[38;5;124m\"\u001b[39m\u001b[38;5;124mcalibration_ready\u001b[39m\u001b[38;5;124m\"\u001b[39m: \u001b[38;5;28mbool\u001b[39m(status \u001b[38;5;241m&\u001b[39m \u001b[38;5;241m0x02\u001b[39m),\n\u001b[0;32m    353\u001b[0m         \u001b[38;5;124m\"\u001b[39m\u001b[38;5;124mhoming_in_progress\u001b[39m\u001b[38;5;124m\"\u001b[39m: \u001b[38;5;28mbool\u001b[39m(status \u001b[38;5;241m&\u001b[39m \u001b[38;5;241m0x04\u001b[39m),\n\u001b[0;32m    354\u001b[0m         \u001b[38;5;124m\"\u001b[39m\u001b[38;5;124mhoming_failed\u001b[39m\u001b[38;5;124m\"\u001b[39m: \u001b[38;5;28mbool\u001b[39m(status \u001b[38;5;241m&\u001b[39m \u001b[38;5;241m0x08\u001b[39m),\n\u001b[0;32m    355\u001b[0m     }\n\u001b[0;32m    357\u001b[0m \u001b[38;5;66;03m# Only raise error if command actually failed\u001b[39;00m\n",
      "\u001b[1;31mTypeError\u001b[0m: 'NoneType' object is not subscriptable"
     ]
    }
   ],
   "source": [
    "from src.stepper import Stepper\n",
    "import logging\n",
    "\n",
    "# Configure debug logging\n",
    "logging.basicConfig(\n",
    "    level=logging.DEBUG, format=\"%(asctime)s - %(name)s - %(levelname)s - %(message)s\"\n",
    ")\n",
    "logger = logging.getLogger(__name__)\n",
    "\n",
    "\n",
    "with Stepper(\"COM5\") as motor:\n",
    "    motor.enable()\n",
    "\n",
    "    # print(f\"Version: {motor.get_version()}\")\n",
    "    # print(f\"Position: {motor.get_position()}\")\n",
    "    # print(f\"Position error: {motor.get_position_error()}\")\n",
    "\n",
    "    # print(\"Drive config:\")\n",
    "    # for items in motor.get_drive_config().items():\n",
    "    #     print(items)\n",
    "\n",
    "    # print(f\"Status: {motor.get_status()}\")\n",
    "\n",
    "    print(\"System status:\")\n",
    "    for items in motor.get_system_status().items():\n",
    "        print(items)\n",
    "\n",
    "    print(f\"Homing status: {motor.get_homing_status()}\")\n",
    "    print(f\"Motor status: {motor.get_encoder_calibration_status()}\")\n",
    "\n",
    "    print(f\"Bus voltage: {motor.get_bus_voltage()}\")\n",
    "    print(f\"Phase current: {motor.get_phase_current()}\")\n"
   ]
  },
  {
   "cell_type": "code",
   "execution_count": 8,
   "metadata": {},
   "outputs": [
    {
     "data": {
      "text/plain": [
       "15"
      ]
     },
     "execution_count": 8,
     "metadata": {},
     "output_type": "execute_result"
    }
   ],
   "source": [
    "sum((1, 1, 2, 4, 2, 2, 2, 1))"
   ]
  },
  {
   "cell_type": "code",
   "execution_count": 2,
   "metadata": {},
   "outputs": [
    {
     "name": "stderr",
     "output_type": "stream",
     "text": [
      "2024-11-27 09:24:27,358 - StepperMotor - DEBUG - Command: Enable motor (store=0, sync=0)\n",
      "TX: 01 F3 AB 01 00 6B\n",
      "2024-11-27 09:24:27,362 - StepperMotor - DEBUG - Response to Enable motor (store=0, sync=0):\n",
      "RX: 01 F3 02 6B\n",
      "2024-11-27 09:24:27,363 - StepperMotor - DEBUG - Command: Move relative 80 steps at 3000 RPM (dir=1, accel=255)\n",
      "TX: 01 FD 01 0B B8 FF 00 00 00 50 00 00 6B\n",
      "2024-11-27 09:24:27,363 - StepperMotor - DEBUG - Response to Move relative 80 steps at 3000 RPM (dir=1, accel=255):\n",
      "RX: 01 FD E2 6B\n"
     ]
    },
    {
     "ename": "StatusError",
     "evalue": "Motor stalled or disabled",
     "output_type": "error",
     "traceback": [
      "\u001b[1;31m---------------------------------------------------------------------------\u001b[0m",
      "\u001b[1;31mStatusError\u001b[0m                               Traceback (most recent call last)",
      "Cell \u001b[1;32mIn[2], line 5\u001b[0m\n\u001b[0;32m      3\u001b[0m \u001b[38;5;28;01mwith\u001b[39;00m StepperMotor(\u001b[38;5;124m\"\u001b[39m\u001b[38;5;124mCOM5\u001b[39m\u001b[38;5;124m\"\u001b[39m) \u001b[38;5;28;01mas\u001b[39;00m motor:\n\u001b[0;32m      4\u001b[0m     motor\u001b[38;5;241m.\u001b[39menable()\n\u001b[1;32m----> 5\u001b[0m     \u001b[43mmotor\u001b[49m\u001b[38;5;241;43m.\u001b[39;49m\u001b[43mset_position\u001b[49m\u001b[43m(\u001b[49m\u001b[43msteps\u001b[49m\u001b[38;5;241;43m=\u001b[39;49m\u001b[38;5;241;43m80\u001b[39;49m\u001b[43m,\u001b[49m\u001b[43m \u001b[49m\u001b[43mspeed\u001b[49m\u001b[38;5;241;43m=\u001b[39;49m\u001b[38;5;241;43m3000\u001b[39;49m\u001b[43m,\u001b[49m\u001b[43m \u001b[49m\u001b[43macceleration\u001b[49m\u001b[38;5;241;43m=\u001b[39;49m\u001b[38;5;241;43m255\u001b[39;49m\u001b[43m)\u001b[49m\n\u001b[0;32m      6\u001b[0m time\u001b[38;5;241m.\u001b[39msleep(\u001b[38;5;241m0.5\u001b[39m)\n",
      "File \u001b[1;32mc:\\Users\\opsiclear\\projects\\ZDT_stepper\\src\\stepper\\stepper.py:490\u001b[0m, in \u001b[0;36mStepperMotor.set_position\u001b[1;34m(self, steps, speed, direction, acceleration, relative, sync)\u001b[0m\n\u001b[0;32m    488\u001b[0m result \u001b[38;5;241m=\u001b[39m \u001b[38;5;28mself\u001b[39m\u001b[38;5;241m.\u001b[39m_execute(cmd)\n\u001b[0;32m    489\u001b[0m \u001b[38;5;28;01mif\u001b[39;00m result\u001b[38;5;241m.\u001b[39mis_condition_error:\n\u001b[1;32m--> 490\u001b[0m     \u001b[38;5;28;01mraise\u001b[39;00m StatusError(\u001b[38;5;124m\"\u001b[39m\u001b[38;5;124mMotor stalled or disabled\u001b[39m\u001b[38;5;124m\"\u001b[39m)\n",
      "\u001b[1;31mStatusError\u001b[0m: Motor stalled or disabled"
     ]
    }
   ],
   "source": [
    "import time\n",
    "\n",
    "for i in range(10):\n",
    "    with StepperMotor(\"COM5\") as motor:\n",
    "        motor.enable()\n",
    "        motor.set_position(steps=80, speed=3000, acceleration=255)\n",
    "    time.sleep(0.5)\n"
   ]
  },
  {
   "cell_type": "code",
   "execution_count": 4,
   "metadata": {},
   "outputs": [
    {
     "name": "stderr",
     "output_type": "stream",
     "text": [
      "2024-11-27 08:49:42,662 - StepperMotor - DEBUG - Command: Enable motor (store=0, sync=0)\n",
      "TX: 01 F3 AB 01 00 6B\n",
      "2024-11-27 08:49:42,666 - StepperMotor - DEBUG - Response to Enable motor (store=0, sync=0):\n",
      "RX: 01 F3 02 6B\n",
      "2024-11-27 08:49:42,666 - __main__ - DEBUG - Motor enabled successfully\n",
      "2024-11-27 08:49:42,667 - StepperMotor - DEBUG - Command: Read motor status\n",
      "TX: 01 3A 6B\n",
      "2024-11-27 08:49:42,669 - StepperMotor - DEBUG - Response to Read motor status:\n",
      "RX: 01 3A 03 6B\n",
      "2024-11-27 08:49:42,670 - StepperMotor - DEBUG - Command: Home motor (single-turn nearest)\n",
      "TX: 01 9A 00 00 6B\n",
      "2024-11-27 08:49:42,674 - StepperMotor - DEBUG - Response to Home motor (single-turn nearest):\n",
      "RX: 01 9A 02 6B\n",
      "2024-11-27 08:49:42,675 - StepperMotor - DEBUG - Command: Set zero position (store=1)\n",
      "TX: 01 93 88 01 6B\n"
     ]
    }
   ],
   "source": [
    "with StepperMotor(\"COM5\") as motor:\n",
    "    try:\n",
    "        motor.enable()\n",
    "        logger.debug(\"Motor enabled successfully\")\n",
    "\n",
    "    except Exception as e:\n",
    "        logger.error(f\"Communication error: {str(e)}\", exc_info=True)\n",
    "        status = motor.get_status()\n",
    "\n",
    "    try:\n",
    "        motor.home(mode=0)  # Home to nearest position\n",
    "    except Exception as e:\n",
    "        logger.error(f\"Homing failed: {str(e)}\")\n",
    "        raise\n",
    "    motor.set_zero()  # Set current position as zero\n",
    "\n",
    "    # Move with acceleration\n",
    "    motor.set_position(\n",
    "        steps=32000,  # 10 revolutions\n",
    "        speed=1500,  # 1500 RPM\n",
    "        acceleration=10,  # Smooth acceleration\n",
    "    )\n",
    "\n",
    "    # Monitor status\n",
    "    status = motor.get_status()\n",
    "    if status.stalled:\n",
    "        motor.clear_stall()\n",
    "        motor.emergency_stop()\n"
   ]
  },
  {
   "cell_type": "code",
   "execution_count": 43,
   "metadata": {},
   "outputs": [],
   "source": [
    "def define_config_type(minimum: int, maximum: int, default: int, digits: int):\n",
    "    class RangedInt(int):\n",
    "        def __new__(cls, value: int = default, *args, **kwargs):\n",
    "            instance = int.__new__(cls, value, *args, **kwargs)\n",
    "            cls.digits = digits\n",
    "            if not minimum <= instance <= maximum:\n",
    "                raise ValueError(\"Value out of range\")\n",
    "            return instance\n",
    "\n",
    "        @property\n",
    "        def bytes(self) -> bytes:\n",
    "            return self.to_bytes(self.digits, \"big\")\n",
    "\n",
    "    return RangedInt\n"
   ]
  },
  {
   "cell_type": "code",
   "execution_count": 10,
   "metadata": {},
   "outputs": [
    {
     "data": {
      "text/plain": [
       "0"
      ]
     },
     "execution_count": 10,
     "metadata": {},
     "output_type": "execute_result"
    }
   ],
   "source": [
    "from dataclasses import dataclass, field\n",
    "\n",
    "@dataclass\n",
    "class MetaParam:\n",
    "    minimum: int\n",
    "    maximum: int\n",
    "    default: int\n",
    "    digits: int\n",
    "\n",
    "@dataclass\n",
    "class Named:\n",
    "    name: str\n",
    "    code: int = field(default=0, init=False)\n",
    "\n",
    "\n",
    "@dataclass\n",
    "class NamedMetaParam(Named, MetaParam):\n",
    "    pass\n",
    "\n",
    "\n",
    "a = NamedMetaParam(name=\"a\", minimum=0, maximum=100, default=50, digits=2)\n",
    "\n",
    "a.code\n"
   ]
  },
  {
   "cell_type": "code",
   "execution_count": 9,
   "metadata": {},
   "outputs": [
    {
     "name": "stdout",
     "output_type": "stream",
     "text": [
      "<class '__main__.RangedInt'>\n"
     ]
    }
   ],
   "source": [
    "from dataclasses import dataclass\n",
    "\n",
    "\n",
    "class RangedInt(int):\n",
    "    MetaParam: Named\n",
    "\n",
    "    def __new__(cls, value: int) -> \"RangedInt\":\n",
    "        if not hasattr(cls, \"minimum\") or not hasattr(cls, \"maximum\"):\n",
    "            raise TypeError(\"RangedInt cannot be instantiated directly\")\n",
    "        if not cls.minimum <= value <= cls.maximum:\n",
    "            raise ValueError(f\"Value must be between {cls.minimum} and {cls.maximum}\")\n",
    "        return super().__new__(cls, value)\n",
    "\n",
    "\n",
    "def create_ranged_int(name: str, minimum: int, maximum: int) -> type[RangedInt]:\n",
    "    \"\"\"Creates a new RangedInt subclass with specified bounds.\n",
    "\n",
    "    :param name: Name of the new class\n",
    "    :param minimum: Minimum allowed value\n",
    "    :param maximum: Maximum allowed value\n",
    "    :raises ValueError: If minimum > maximum\n",
    "    :return: New RangedInt subclass\n",
    "    \"\"\"\n",
    "    if minimum > maximum:\n",
    "        raise ValueError(\"Minimum value cannot be greater than maximum\")\n",
    "\n",
    "    return type(\n",
    "        name,\n",
    "        (RangedInt,),\n",
    "        {\n",
    "            \"minimum\": minimum,\n",
    "            \"maximum\": maximum,\n",
    "            \"__doc__\": f\"Integer constrained between {minimum} and {maximum}\",\n",
    "        },\n",
    "    )\n",
    "\n",
    "\n",
    "# Usage example:\n",
    "Speed = create_ranged_int(\"Speed\", 0, 255)\n",
    "Acceleration = create_ranged_int(\"Acceleration\", 0, 1288)\n",
    "\n",
    "# Now you can use them like this:\n",
    "speed = Speed(100)  # Valid\n",
    "accel = Acceleration(1000)  # Valid"
   ]
  }
 ],
 "metadata": {
  "kernelspec": {
   "display_name": "flir",
   "language": "python",
   "name": "python3"
  },
  "language_info": {
   "codemirror_mode": {
    "name": "ipython",
    "version": 3
   },
   "file_extension": ".py",
   "mimetype": "text/x-python",
   "name": "python",
   "nbconvert_exporter": "python",
   "pygments_lexer": "ipython3",
   "version": "3.11.10"
  }
 },
 "nbformat": 4,
 "nbformat_minor": 2
}
